{
 "cells": [
  {
   "cell_type": "markdown",
   "id": "ac31bc9a-1976-47ce-a2b1-867dea3ce6b2",
   "metadata": {},
   "source": [
    "Фаррахов Фанур 05-204 Вариант 18."
   ]
  },
  {
   "cell_type": "code",
   "execution_count": 1,
   "id": "795ed7e0-cfa1-4b55-a953-160e07bb3e00",
   "metadata": {},
   "outputs": [],
   "source": [
    "import math\n",
    "import numpy as np\n",
    "import sympy as sp\n",
    "import IPython.display as dp"
   ]
  },
  {
   "cell_type": "code",
   "execution_count": 2,
   "id": "19e87bb0-40e5-4f1d-a420-70e0df083708",
   "metadata": {},
   "outputs": [],
   "source": [
    "# TODO:\n",
    "# Построить графики для оригинальной функции и для ее интерполяции"
   ]
  },
  {
   "cell_type": "markdown",
   "id": "fde08f88-7614-48b0-bf11-e6eac32a744e",
   "metadata": {},
   "source": [
    "**Вариант 18.** <br>\n",
    "$f(x) = 3^{x/5}$ <br>\n",
    "$a = 3$, $b = 4$ <br>"
   ]
  },
  {
   "cell_type": "code",
   "execution_count": 3,
   "id": "c58aaa90-9948-4174-8170-7aca212813f6",
   "metadata": {},
   "outputs": [],
   "source": [
    "# Начальные условия\n",
    "x = sp.symbols('x')\n",
    "f = 3**(x/5)\n",
    "df = sp.diff(f)\n",
    "a = 3\n",
    "b = 4\n",
    "X = [15/4, 15/6, 16/(7 * np.pi)] # Контрольные значения x^(i)\n",
    "Y = [f.subs(x, x_l) for x_l in X]"
   ]
  },
  {
   "cell_type": "markdown",
   "id": "2d742a4e-5c6a-4567-b506-a97bc4a3248b",
   "metadata": {},
   "source": [
    "**Задача 1.**<br>\n",
    "1) $x_k = a + k \\frac{b - a}{4}$, $k = \\overline{0,4}$\n",
    "2) $x_k = \\frac{b -a}{2} \\cos{\\frac{(2k - 1)\\pi}{10}} + \\frac{b+a}{2}$, $k = \\overline{1,5}$"
   ]
  },
  {
   "cell_type": "code",
   "execution_count": 4,
   "id": "548eb9aa-0a5d-47e1-9ba3-99fbb3e8d455",
   "metadata": {},
   "outputs": [
    {
     "name": "stdout",
     "output_type": "stream",
     "text": [
      "x_k = [3.0, 3.25, 3.5, 3.75, 4.0]\n",
      "y_k = [1.93318204493176, 2.04234363194535, 2.15766927997459, 2.27950705695478, 2.40822468528069]\n"
     ]
    }
   ],
   "source": [
    "# Первый случай\n",
    "X1 = [(a + k*(b - a)/4) for k in range(5)]   # x_k\n",
    "Y1 = [f.subs(x, x_k) for x_k in X1]   # y_k\n",
    "print(f\"x_k = {X1}\")\n",
    "print(f\"y_k = {Y1}\")"
   ]
  },
  {
   "cell_type": "code",
   "execution_count": 5,
   "id": "418a4c88-cace-4a84-a423-b0f5bc41b6f0",
   "metadata": {},
   "outputs": [
    {
     "name": "stdout",
     "output_type": "stream",
     "text": [
      "x_k = [3.975528258147577, 3.7938926261462367, 3.5, 3.2061073738537633, 3.024471741852423]\n",
      "y_k = [2.39531043320922, 2.30159741976771, 2.15766927997459, 2.02274154539847, 1.94360474417031]\n"
     ]
    }
   ],
   "source": [
    "# Второой случай\n",
    "X2 = [((b-a)/2 * np.cos((2*k-1)*np.pi / 10) + (b+a)/2) for k in range(1, 6)]   # x_k\n",
    "Y2 = [f.subs(x, x_k) for x_k in X2]   # y_k\n",
    "print(f\"x_k = {X2}\")\n",
    "print(f\"y_k = {Y2}\")"
   ]
  },
  {
   "cell_type": "markdown",
   "id": "ab55c9e3-a075-4da8-ad08-b9b49a3424b3",
   "metadata": {},
   "source": [
    "Формула вычисления полинома Лагранжа: <br>\n",
    "$L_n(f, x) = \\sum\\limits_{k=0}^{n-1}{f(x_k) l_k(x)}$ \n",
    ", где \n",
    " $l_k = \\prod\\limits_{j=0 \\atop j \\neq k}^{n-1}{\\frac{x - x_j}{x_k - x_j}}$ <br>\n",
    "Формула оценки максимальной погрешности в любой точке $x \\in [a, b]$: <br>\n",
    "$|f(x) - L_n(x)| \\leq \\frac{\\max\\limits_{x \\in [a, b]}{|f^{n+1}(x)|}}{(n+1)!}$"
   ]
  },
  {
   "cell_type": "code",
   "execution_count": 40,
   "id": "43c29b64-a802-466d-9afe-1aec6e9ffbda",
   "metadata": {},
   "outputs": [],
   "source": [
    "class Lagrange:    # rename to \"LagrangeCalc\"\n",
    "\n",
    "    def __init__(self, X, Y):\n",
    "        self.n = len(X)\n",
    "        self.X = np.array(X)\n",
    "        self.Y = np.array(Y)\n",
    "\n",
    "    def __l(self, x, k):\n",
    "        b = [(x - self.X[j]) / (self.X[k] - self.X[j])\n",
    "             for j in range(self.n) if j != k]\n",
    "        return np.prod(b, axis=0)\n",
    "\n",
    "    def interpolate(self, x=x):\n",
    "        b = [self.Y[k] * self.__l(x, k) for k in range(self.n)]\n",
    "        self.L = np.sum(b, axis=0)\n",
    "        self.L = sp.simplify(self.L)\n",
    "        return self.L\n",
    "\n",
    "    # |L_5(f, x^i) - f(x^i)| разность в конрольных точках\n",
    "    def diff_in_control_points(self, X, Y):\n",
    "        '''\n",
    "            X - контрольные точки\n",
    "            Y - значения функции в контрольных точках\n",
    "        '''\n",
    "        return np.abs(np.array(Y) - np.array([self.L.subs(x, x_l) for x_l in X]))\n",
    "\n",
    "    def display(self):\n",
    "        dp.display(dp.Markdown(rf\"$L_{self.n}(f, x) = {sp.latex(self.L)}$\"))\n",
    "\n",
    "    def display_diff_in_conrol_points(self, X, Y):\n",
    "        dp.display(dp.Markdown(rf\"$|L_{self.n}(f, x^i) - f(x^i)| = {list(self.diff_in_control_points(X, Y))}$, $i = 1, 2, 3$\"))"
   ]
  },
  {
   "cell_type": "markdown",
   "id": "7c6ffaf3-74e0-448c-9290-6c43d30a3242",
   "metadata": {},
   "source": [
    "**Вычисление на первых узлах**"
   ]
  },
  {
   "cell_type": "code",
   "execution_count": 41,
   "id": "0dbdd2ff-1c20-4af2-bc7f-83fbf11a0516",
   "metadata": {},
   "outputs": [
    {
     "data": {
      "text/markdown": [
       "$L_5(f, x) = 0.000209647567984916 x^{4} + 0.000882482474935387 x^{3} + 0.0274087663992759 x^{2} + 0.213841099584897 x + 1.00417136875876$"
      ],
      "text/plain": [
       "<IPython.core.display.Markdown object>"
      ]
     },
     "metadata": {},
     "output_type": "display_data"
    }
   ],
   "source": [
    "lp1 = Lagrange(X1, Y1)\n",
    "lp1.interpolate()\n",
    "lp1.display()"
   ]
  },
  {
   "cell_type": "code",
   "execution_count": 42,
   "id": "3970f79f-2b95-42a6-a5c4-a33aa980e3cc",
   "metadata": {},
   "outputs": [
    {
     "data": {
      "text/markdown": [
       "$|L_5(f, x^i) - f(x^i)| = [6.16662276797797e-12, 6.24694287809646e-6, 0.00131277136856656]$, $i = 1, 2, 3$"
      ],
      "text/plain": [
       "<IPython.core.display.Markdown object>"
      ]
     },
     "metadata": {},
     "output_type": "display_data"
    }
   ],
   "source": [
    "lp1.display_diff_in_conrol_points(X, Y)"
   ]
  },
  {
   "cell_type": "code",
   "execution_count": 43,
   "id": "b30a930a-11be-465c-8299-c0c8eda7ce49",
   "metadata": {},
   "outputs": [],
   "source": [
    "# TODO: Дать оценку приближения"
   ]
  },
  {
   "cell_type": "code",
   "execution_count": null,
   "id": "56e3b4a4-639b-4fd0-8523-d0bf3c6472f5",
   "metadata": {},
   "outputs": [],
   "source": []
  },
  {
   "cell_type": "markdown",
   "id": "f91868c7-b862-4616-a4e1-93ccff0d0283",
   "metadata": {},
   "source": [
    "**Вычисление на вторых узлах**"
   ]
  },
  {
   "cell_type": "code",
   "execution_count": 44,
   "id": "94d86d3b-3141-4544-ba0d-968bdcf16d19",
   "metadata": {},
   "outputs": [
    {
     "data": {
      "text/markdown": [
       "$L_5(f, x) = 0.000209647566819626 x^{4} + 0.000882482449696909 x^{3} + 0.0274087654315736 x^{2} + 0.213841071503339 x + 1.00417148015913$"
      ],
      "text/plain": [
       "<IPython.core.display.Markdown object>"
      ]
     },
     "metadata": {},
     "output_type": "display_data"
    }
   ],
   "source": [
    "lp2 = Lagrange(X2, Y2)\n",
    "lp2.interpolate()\n",
    "lp2.display()"
   ]
  },
  {
   "cell_type": "code",
   "execution_count": 45,
   "id": "15a669f2-3eab-48bb-a2fd-d54626ee4847",
   "metadata": {},
   "outputs": [
    {
     "data": {
      "text/markdown": [
       "$|L_5(f, x^i) - f(x^i)| = [9.06899977337616e-9, 6.28165133997882e-6, 0.00131286181546142]$, $i = 1, 2, 3$"
      ],
      "text/plain": [
       "<IPython.core.display.Markdown object>"
      ]
     },
     "metadata": {},
     "output_type": "display_data"
    }
   ],
   "source": [
    "lp2.display_diff_in_conrol_points(X, Y)"
   ]
  },
  {
   "cell_type": "code",
   "execution_count": 12,
   "id": "4301f60d-a637-487b-b7bf-ad33e0828da6",
   "metadata": {},
   "outputs": [],
   "source": [
    "# TODO: Дать оценку приближения"
   ]
  },
  {
   "cell_type": "code",
   "execution_count": null,
   "id": "6f427ae3-7e8e-4a4c-8477-93a532788868",
   "metadata": {},
   "outputs": [],
   "source": []
  },
  {
   "cell_type": "markdown",
   "id": "b590f331-236f-4391-9500-062b474f12f8",
   "metadata": {},
   "source": [
    "***\n",
    "**Задача 2.** <br>\n",
    "$x_k = a + k \\frac{b-a}{4}$, $k = \\overline{0, 4}$, как в задачи 1 пункт 1"
   ]
  },
  {
   "cell_type": "markdown",
   "id": "1bd12e27-f651-4002-b1fc-ec401e868462",
   "metadata": {},
   "source": [
    "Формула вычисления полинома Лагранжа в форме Ньютона:\n",
    "$L_4(f, x) = f(x_1) + (x - x_1) f(x_1, x_2) + (x - x_1)(x - x_2) f(x_1, x_2, x_3) + (x - x_1)(x - x_2)(x - x_3) f(x_1, x_2, x_3, x_4) + (x - x_1)(x - x_2)(x - x_3)(x - x_4) f(x_1, x_2, x_3, x_4, x_5)$ <br>\n",
    ",где <br>\n",
    "$f(x_k, x_{k+1}) = \\frac{f(x_{k+1}) - f(x_k)}{x_{k+1} - x_k}$ <br>\n",
    "$f(x_{k-1}, x_k, x_{k+1}) = \\frac{f(x_k, x_{k+1}) - f(x_{k-1}, x_k)}{x_{k+1} - x_{k-1}}$ <br> <br>\n",
    "$\n",
    "f(x_0, x_1, \\ldots, x_n)=\\sum_{j=0}^n\\dfrac{f(x_j)}{\\prod\\limits_{i=0\\atop i\\neq j}^n(x_j-x_i)} \\qquad (*)\n",
    "$ <br>\n",
    "Доказательство ф-лы $(*)$: <br>\n",
    "..."
   ]
  },
  {
   "cell_type": "code",
   "execution_count": 46,
   "id": "6f498ac0-7c7d-492e-896a-c0e165441040",
   "metadata": {},
   "outputs": [],
   "source": [
    "class Newton:\n",
    "\n",
    "    def __init__(self, X, Y):\n",
    "        self.n = len(X)\n",
    "        self.X = np.array(X)\n",
    "        self.Y = np.array(Y)\n",
    "\n",
    "    def _f(self, n):\n",
    "        '''\n",
    "            n - число аргументов в функции f. Например, нужно найти f(x1, x2, x3), то n будет равно 3, а если же нужно найти f(x1, x2, x3, x4), то n = 4\n",
    "        '''\n",
    "        b = [self.Y[j] / self._w(n, j) for j in range(n)]\n",
    "        return np.sum(b, axis=0)\n",
    "\n",
    "\n",
    "    def _w(self, n, j):\n",
    "        b = [(self.X[j] - self.X[i]) for i in range(n) if i != j]\n",
    "        return np.prod(b, axis=0)\n",
    "        \n",
    "\n",
    "    def interpolate(self, x=x):\n",
    "        omega = [(x - self.X[i]) for i in range(self.n)]\n",
    "        b = [self._f(n) * np.prod(omega[:n-1], axis=0) for n in range(1, self.n + 1)]\n",
    "        self.L = np.sum(b, axis=0)\n",
    "        self.L = sp.simplify(self.L)\n",
    "        return self.L\n",
    "\n",
    "    def diff_in_control_points(self, X, Y):\n",
    "        '''\n",
    "            X - контрольные точки\n",
    "            Y - значения функции в контрольных точках\n",
    "        '''\n",
    "        return np.abs(np.array(Y) - np.array([self.L.subs(x, x_l) for x_l in X]))\n",
    "\n",
    "    def display(self):\n",
    "        dp.display(dp.Markdown(rf\"$L_{self.n}(f, x) = {sp.latex(self.L)}$\"))\n",
    "\n",
    "    def display_diff(self, X, Y):\n",
    "        dp.display(dp.Markdown(rf\"$|L_{self.n}(f, x^i) - f(x^i)| = {list(self.diff_in_control_points(X, Y))}$, $i = 1, 2, 3$\"))\n",
    "    "
   ]
  },
  {
   "cell_type": "code",
   "execution_count": 15,
   "id": "0b96b115-39fa-416e-aff7-e8071902b9a4",
   "metadata": {},
   "outputs": [
    {
     "name": "stdout",
     "output_type": "stream",
     "text": [
      "x_k = [3.0, 3.25, 3.5, 3.75, 4.0]\n",
      "y_k = [1.93318204493176, 2.04234363194535, 2.15766927997459, 2.27950705695478, 2.40822468528069]\n"
     ]
    }
   ],
   "source": [
    "print(f\"x_k = {X1}\")\n",
    "print(f\"y_k = {Y1}\")"
   ]
  },
  {
   "cell_type": "code",
   "execution_count": 16,
   "id": "89e34a60-db78-4f0c-9ef1-bafe2012022a",
   "metadata": {},
   "outputs": [],
   "source": [
    "nlp = Newton(X1, Y1)"
   ]
  },
  {
   "cell_type": "code",
   "execution_count": 17,
   "id": "9e32516c-7c39-45be-8178-df18ab9c04b9",
   "metadata": {},
   "outputs": [
    {
     "data": {
      "text/markdown": [
       "$L_5(f, x) = 0.000209647567981364 x^{4} + 0.000882482475342172 x^{3} + 0.0274087663968203 x^{2} + 0.213841099586788 x + 1.00417136875929$"
      ],
      "text/plain": [
       "<IPython.core.display.Markdown object>"
      ]
     },
     "metadata": {},
     "output_type": "display_data"
    }
   ],
   "source": [
    "nlp.interpolate()\n",
    "nlp.display()"
   ]
  },
  {
   "cell_type": "code",
   "execution_count": 18,
   "id": "ba31f585-73c3-43de-bbcd-3e2c18aeddc4",
   "metadata": {},
   "outputs": [],
   "source": [
    "X3 = [-1, 0, 1, 3]\n",
    "Y3 = [0, -1, 0, 8]"
   ]
  },
  {
   "cell_type": "code",
   "execution_count": 19,
   "id": "eaa8d7c9-9a29-4921-9dc8-28fd4cac94e2",
   "metadata": {},
   "outputs": [],
   "source": [
    "nlp2 = Newton(X3, Y3)"
   ]
  },
  {
   "cell_type": "code",
   "execution_count": 20,
   "id": "2db16bd7-1fb7-4f39-9d6c-2884b7c51eb4",
   "metadata": {},
   "outputs": [
    {
     "data": {
      "text/markdown": [
       "$L_4(f, x) = 1.0 x^{2} - 1.0$"
      ],
      "text/plain": [
       "<IPython.core.display.Markdown object>"
      ]
     },
     "metadata": {},
     "output_type": "display_data"
    }
   ],
   "source": [
    "nlp2.interpolate()\n",
    "nlp2.display()"
   ]
  },
  {
   "cell_type": "code",
   "execution_count": null,
   "id": "897ab51b-ef8c-4a63-84ff-fe43940fde54",
   "metadata": {},
   "outputs": [],
   "source": []
  },
  {
   "cell_type": "code",
   "execution_count": null,
   "id": "9a94ce7f-54d6-4c11-9902-de5a8c368104",
   "metadata": {},
   "outputs": [],
   "source": []
  },
  {
   "cell_type": "markdown",
   "id": "3f682e9d-dda9-478e-a04e-6c9a1111f8dc",
   "metadata": {},
   "source": [
    "**Задача 3.** <br>\n",
    "$x_k = a + k \\frac{b - a}{4}$, $k = \\overline{0, 4}$"
   ]
  },
  {
   "cell_type": "code",
   "execution_count": 21,
   "id": "2ad99394-15a3-4378-97a5-afb0baf1c582",
   "metadata": {},
   "outputs": [],
   "source": [
    "dY1 = [df.subs(x, x_k) for x_k in X1]"
   ]
  },
  {
   "cell_type": "code",
   "execution_count": 22,
   "id": "275680fb-0e1c-4686-829c-6cab0fd33030",
   "metadata": {},
   "outputs": [
    {
     "name": "stdout",
     "output_type": "stream",
     "text": [
      "x_k  = [3.0, 3.25, 3.5, 3.75, 4.0]\n",
      "y_k  = [1.93318204493176, 2.04234363194535, 2.15766927997459, 2.27950705695478, 2.40822468528069]\n",
      "y'_k = [0.386636408986353*log(3), 0.40846872638907*log(3), 0.431533855994919*log(3), 0.455901411390956*log(3), 0.481644937056138*log(3)]\n"
     ]
    }
   ],
   "source": [
    "print(f\"x_k  = {X1}\")\n",
    "print(f\"y_k  = {Y1}\")\n",
    "print(f\"y'_k = {dY1}\")"
   ]
  },
  {
   "cell_type": "markdown",
   "id": "50841a69-0d56-4a37-9948-567bc9def460",
   "metadata": {},
   "source": [
    "Формула для вычисления полинома Эрмита-Фейера: <br>\n",
    "$H_{m - 1}(f, x) = L_n(f, x) + (x - x_1)\\ldots(x - x_n) H_{m-n-1}(x) = L_n(f, x) + \\omega_n(x) H_{m-n-1}(x)$, где $L_n(f, x)$ - обычный полином Лагранжа, и $H_{m-n-1}(x)$ находится следующим способом."
   ]
  },
  {
   "cell_type": "markdown",
   "id": "ad523feb-b2fb-4688-8207-a9b244111f8f",
   "metadata": {},
   "source": [
    "Для начала найдем производную $H_{m - 1}(f, x)$. \n",
    "$$H_{m - 1}'(f, x) = L_n'(f, x) + \\omega_n'(x) H_{m-n-1}(x) + \\omega_n(x) H_{m-n-1}'(x)$$\n",
    "Теперь подставим узловые точки $x_k$ в полином $H_{m - 1}'(f, x)$.\n",
    "$$H_{m - 1}'(f, x_k) = L_n'(f, x_k) + \\omega_n'(x_k) H_{m-n-1}(x_k) + \\omega_n(x_k) H_{m-n-1}'(x_k), \\text{где } \\omega_n(x_k)=0 \\quad k = \\overline{1,n}$$\n",
    "$$\\Downarrow$$\n",
    "$$H_{m - 1}'(f, x_k) = L_n'(f, x_k) + \\omega_n'(x_k) H_{m-n-1}(x_k) = f'(x_k)$$\n",
    "$$\\Downarrow$$\n",
    "$$H_{m-n-1}(x_k) = \\frac{f'(x_k) - L_n'(f, x_k)}{\\omega_n'(x_k)} = g(x_k)$$\n",
    "$H_{m-n-1}(x) = L_n^*(f, x) + \\omega_n(x) H_{m-2n-1}(x)$, $\\quad H_{m-2n-1}(x)$ находится из оставшихся условий <br>\n",
    "В нашем случае, т.е. крастность каждого узла = 2, $H_{m-2n-1}(x) = 0$, потому что нет оставшихся условий. \n",
    "Поэтому $H_{m-n-1}(x) = L_n^*(f, x)$.<br>\n",
    "$L_n^*(f, x)$ - какой-то другой полином Лагранжа, построенный на точках $\\quad {(x_1, g(x_1)), (x_2, g(x_2)), \\ldots, (x_n, g(x_n))}$"
   ]
  },
  {
   "cell_type": "code",
   "execution_count": 29,
   "id": "7cd73c4b-d6a0-4fb6-83dc-069138a1c9f5",
   "metadata": {},
   "outputs": [],
   "source": [
    "# TODO:\n",
    "# Как-то покрасивей переписать код"
   ]
  },
  {
   "cell_type": "code",
   "execution_count": 79,
   "id": "c144c88c-c66f-4b82-9153-ab1fb76b5344",
   "metadata": {},
   "outputs": [],
   "source": [
    "class Hermit:\n",
    "\n",
    "    def __init__(self, X, Y, dY):\n",
    "        self.n = len(X)\n",
    "        self.X = X\n",
    "        self.Y = Y\n",
    "        self.dY = dY\n",
    "\n",
    "    def _H(self, x):\n",
    "        dL = sp.diff(self._L)\n",
    "        Y2 = [(self.dY[i] - sp.diff(self._L).subs(x, self.X[i])) / sp.diff(self._w).subs(x, self.X[i]) for i in range(self.n)]\n",
    "        # print(f\"Y2 = {Y2}\")\n",
    "        return Lagrange(self.X, Y2).interpolate()\n",
    "        \n",
    "    def interpolate(self, x=x):\n",
    "        self._L = Lagrange(self.X, self.Y).interpolate()\n",
    "        self._w = np.prod([(x - self.X[k]) for k in range(self.n)])\n",
    "        self.H = self._L + self._w * self._H(x)\n",
    "        self.H = sp.expand(self.H)\n",
    "        return self.H\n",
    "        \n",
    "    def display(self):\n",
    "        dp.display(dp.Markdown(rf\"$H_{2 * self.n - 1}(f, x) = {sp.latex(sp.simplify(self.H))}$\"))"
   ]
  },
  {
   "cell_type": "code",
   "execution_count": 80,
   "id": "642843d8-fb9e-4e6f-a8d8-99543d909fb3",
   "metadata": {},
   "outputs": [],
   "source": [
    "her = Hermit(X1, Y1, dY1)"
   ]
  },
  {
   "cell_type": "code",
   "execution_count": 81,
   "id": "04fc2c5f-8bf1-47be-a877-251a32fdce32",
   "metadata": {},
   "outputs": [
    {
     "data": {
      "text/markdown": [
       "$H_9(f, x) = - 7.31142790755257 \\cdot 10^{-9} x^{9} + 2.31486865232 \\cdot 10^{-7} x^{8} - 3.24234252957467 \\cdot 10^{-6} x^{7} + 2.67065118180199 \\cdot 10^{-5} x^{6} - 0.000135092489841782 x^{5} + 0.000584107078211105 x^{4} + 0.000634997332326748 x^{3} + 0.0258310505951158 x^{2} + 0.218250390613321 x + 1.00056837297416$"
      ],
      "text/plain": [
       "<IPython.core.display.Markdown object>"
      ]
     },
     "metadata": {},
     "output_type": "display_data"
    }
   ],
   "source": [
    "hermit = her.interpolate()\n",
    "her.display()"
   ]
  },
  {
   "cell_type": "markdown",
   "id": "2288ce7e-547a-4162-af2f-ee461bd40035",
   "metadata": {},
   "source": [
    "***\n",
    "Проверка моей догадки, что <br>\n",
    "$H_{m-n-1}(x) = L_n(f,x)$\n",
    "Для задачи: <br>\n",
    "|   |x_1|x_2|\n",
    "|---|---|---|\n",
    "|y  | -1|  1|\n",
    "|y' |1/2|-1|"
   ]
  },
  {
   "cell_type": "code",
   "execution_count": 34,
   "id": "d0080f56-60f2-47d7-9c9e-91f207b7833e",
   "metadata": {},
   "outputs": [],
   "source": [
    "X4  = [0, 1]\n",
    "Y4  = [-1, 1]\n",
    "dY4 = [1/2, -1]"
   ]
  },
  {
   "cell_type": "code",
   "execution_count": 35,
   "id": "081b9194-93b7-4c26-8580-fe84693efb5c",
   "metadata": {},
   "outputs": [],
   "source": [
    "hp = Hermit(X4, Y4, dY4)"
   ]
  },
  {
   "cell_type": "code",
   "execution_count": 36,
   "id": "054befa3-425c-4fca-a7e3-e9f24231c08f",
   "metadata": {},
   "outputs": [
    {
     "data": {
      "text/latex": [
       "$\\displaystyle - 4.5 x^{3} + 6.0 x^{2} + 0.5 x - 1$"
      ],
      "text/plain": [
       "-4.5*x**3 + 6.0*x**2 + 0.5*x - 1"
      ]
     },
     "execution_count": 36,
     "metadata": {},
     "output_type": "execute_result"
    }
   ],
   "source": [
    "hp.interpolate()"
   ]
  },
  {
   "cell_type": "code",
   "execution_count": null,
   "id": "035028d1-6bb3-4132-9a53-464c9f40393c",
   "metadata": {},
   "outputs": [],
   "source": []
  },
  {
   "cell_type": "code",
   "execution_count": null,
   "id": "71ce2c12-7f7e-45cd-99a5-b255e8369aca",
   "metadata": {},
   "outputs": [],
   "source": []
  },
  {
   "cell_type": "markdown",
   "id": "cca49bbb-9691-482f-bae3-b9e1e54c14db",
   "metadata": {},
   "source": [
    "Вычисленно в maple: <br>\n",
    "$0.9863668486+ 0.000000177225121185227\\,{x}^{9}- 0.000005600378880\\,{x\n",
    "}^{8}+ 0.2550927871\\,x- 0.01657986874\\,{x}^{2}+ 0.02906881170\\,{x}^{3} \n",
    "- 0.01165162609\\,{x}^{4}+ 0.003369756621\\,{x}^{5}- 0.0006415856096\\,{x\n",
    "}^{6}+ 0.00007855522009\\,{x}^{7}\n",
    "$ <br>\n",
    "Вычисленно мной: <br>\n",
    "$- 7.31142790755257 \\cdot 10^{-9} x^{9} + 2.31486865232 \\cdot 10^{-7} x^{8} - 3.24234252957467 \\cdot 10^{-6} x^{7} + 2.67065118180199 \\cdot 10^{-5} x^{6} - 0.000135092489841782 x^{5} + 0.000584107078211105 x^{4} + 0.000634997332326748 x^{3} + 0.0258310505951158 x^{2} + 0.218250390613321 x + 1.00056837297416$"
   ]
  },
  {
   "cell_type": "code",
   "execution_count": null,
   "id": "09c1bd17-72d5-487b-b559-680df00741a9",
   "metadata": {},
   "outputs": [],
   "source": []
  }
 ],
 "metadata": {
  "kernelspec": {
   "display_name": "Python 3 (ipykernel)",
   "language": "python",
   "name": "python3"
  },
  "language_info": {
   "codemirror_mode": {
    "name": "ipython",
    "version": 3
   },
   "file_extension": ".py",
   "mimetype": "text/x-python",
   "name": "python",
   "nbconvert_exporter": "python",
   "pygments_lexer": "ipython3",
   "version": "3.12.4"
  }
 },
 "nbformat": 4,
 "nbformat_minor": 5
}
