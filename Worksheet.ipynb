{
 "cells": [
  {
   "cell_type": "code",
   "execution_count": 1,
   "id": "795ed7e0-cfa1-4b55-a953-160e07bb3e00",
   "metadata": {},
   "outputs": [],
   "source": [
    "import math\n",
    "import numpy as np\n",
    "import sympy as sp\n",
    "import IPython.display as dp\n",
    "# from IPython.display import display, Markdown# Для отображения латех текста"
   ]
  },
  {
   "cell_type": "code",
   "execution_count": 2,
   "id": "19e87bb0-40e5-4f1d-a420-70e0df083708",
   "metadata": {},
   "outputs": [],
   "source": [
    "# TODO:\n",
    "# Построить графики для оригинальной функции и для ее интерполяции"
   ]
  },
  {
   "cell_type": "markdown",
   "id": "fde08f88-7614-48b0-bf11-e6eac32a744e",
   "metadata": {},
   "source": [
    "**Вариант 18.** <br>\n",
    "$f(x) = 3^{x/5}$ <br>\n",
    "$a = 3$, $b = 4$ <br>"
   ]
  },
  {
   "cell_type": "code",
   "execution_count": 3,
   "id": "c58aaa90-9948-4174-8170-7aca212813f6",
   "metadata": {},
   "outputs": [],
   "source": [
    "# Начальные условия\n",
    "x = sp.symbols('x')\n",
    "f = 3**(x/5)\n",
    "a = 3\n",
    "b = 4\n",
    "X = [15/4, 15/6, 16/(7 * np.pi)] # Контрольные значения x^(i)\n",
    "Y = [f.subs(x, x_l) for x_l in X]"
   ]
  },
  {
   "cell_type": "markdown",
   "id": "2d742a4e-5c6a-4567-b506-a97bc4a3248b",
   "metadata": {},
   "source": [
    "**Задача 1.**<br>\n",
    "1) $x_k = a + k \\frac{b - a}{4}$, $k = \\overline{0,4}$\n",
    "2) $x_k = \\frac{b -a}{2} \\cos{\\frac{(2k - 1)\\pi}{10}} + \\frac{b+a}{2}$, $k = \\overline{1,5}$"
   ]
  },
  {
   "cell_type": "code",
   "execution_count": 4,
   "id": "548eb9aa-0a5d-47e1-9ba3-99fbb3e8d455",
   "metadata": {},
   "outputs": [
    {
     "name": "stdout",
     "output_type": "stream",
     "text": [
      "x_k = [3.0, 3.25, 3.5, 3.75, 4.0]\n",
      "y_k = [1.93318204493176, 2.04234363194535, 2.15766927997459, 2.27950705695478, 2.40822468528069]\n"
     ]
    }
   ],
   "source": [
    "# Первый случай\n",
    "X1 = [(a + k*(b - a)/4) for k in range(5)]   # x_k\n",
    "Y1 = [f.subs(x, x_k) for x_k in X1]   # y_k\n",
    "print(f\"x_k = {X1}\")\n",
    "print(f\"y_k = {Y1}\")"
   ]
  },
  {
   "cell_type": "code",
   "execution_count": 5,
   "id": "418a4c88-cace-4a84-a423-b0f5bc41b6f0",
   "metadata": {},
   "outputs": [
    {
     "name": "stdout",
     "output_type": "stream",
     "text": [
      "x_k = [3.975528258147577, 3.7938926261462367, 3.5, 3.2061073738537633, 3.024471741852423]\n",
      "y_k = [2.39531043320922, 2.30159741976771, 2.15766927997459, 2.02274154539847, 1.94360474417031]\n"
     ]
    }
   ],
   "source": [
    "# Второой случай\n",
    "X2 = [((b-a)/2 * np.cos((2*k-1)*np.pi / 10) + (b+a)/2) for k in range(1, 6)]   # x_k\n",
    "Y2 = [f.subs(x, x_k) for x_k in X2]   # y_k\n",
    "print(f\"x_k = {X2}\")\n",
    "print(f\"y_k = {Y2}\")"
   ]
  },
  {
   "cell_type": "markdown",
   "id": "ab55c9e3-a075-4da8-ad08-b9b49a3424b3",
   "metadata": {},
   "source": [
    "Формула вычисления полинома Лагранжа: <br>\n",
    "$L_n(f, x) = \\sum_{k=0}^{n-1}{f(x_k) l_k(x)}$"
   ]
  },
  {
   "cell_type": "code",
   "execution_count": 6,
   "id": "43c29b64-a802-466d-9afe-1aec6e9ffbda",
   "metadata": {},
   "outputs": [],
   "source": [
    "class Lagrange:    # rename to \"LagrangeCalc\"\n",
    "\n",
    "    def __init__(self, X, Y):\n",
    "        self.n = len(X)\n",
    "        self.X = np.array(X)\n",
    "        self.Y = np.array(Y)\n",
    "\n",
    "    def __l(self, x, k):\n",
    "        b = [(x - self.X[j]) / (self.X[k] - self.X[j])\n",
    "             for j in range(self.n) if j != k]\n",
    "        return np.prod(b, axis=0)\n",
    "\n",
    "    def interpolate(self, x=x):\n",
    "        b = [self.Y[k] * self.__l(x, k) for k in range(self.n)]\n",
    "        self.L = np.sum(b, axis=0)\n",
    "        self.L = sp.simplify(self.L)\n",
    "        return self.L\n",
    "\n",
    "    # |L_5(f, x^i) - f(x^i)| разность в конрольных точках\n",
    "    def diff_in_control_points(self, X, Y):\n",
    "        '''\n",
    "            X - контрольные точки\n",
    "            Y - значения функции в контрольных точках\n",
    "        '''\n",
    "        return np.abs(np.array(Y) - np.array([self.L.subs(x, x_l) for x_l in X]))\n",
    "\n",
    "    def display(self):\n",
    "        dp.display(dp.Markdown(rf\"$L_{self.n}(f, x) = {sp.latex(self.L)}$\"))\n",
    "\n",
    "    def display_diff(self, X, Y):\n",
    "        dp.display(dp.Markdown(rf\"$|L_{self.n}(f, x^i) - f(x^i)| = {list(self.diff_in_control_points(X, Y))}$, $i = 1, 2, 3$\"))"
   ]
  },
  {
   "cell_type": "markdown",
   "id": "7c6ffaf3-74e0-448c-9290-6c43d30a3242",
   "metadata": {},
   "source": [
    "**Вычисление на первых узлах**"
   ]
  },
  {
   "cell_type": "code",
   "execution_count": 7,
   "id": "0dbdd2ff-1c20-4af2-bc7f-83fbf11a0516",
   "metadata": {},
   "outputs": [
    {
     "data": {
      "text/markdown": [
       "$L_5(f, x) = 0.000209647567984916 x^{4} + 0.000882482474935387 x^{3} + 0.0274087663992759 x^{2} + 0.213841099584897 x + 1.00417136875876$"
      ],
      "text/plain": [
       "<IPython.core.display.Markdown object>"
      ]
     },
     "metadata": {},
     "output_type": "display_data"
    }
   ],
   "source": [
    "lp1 = Lagrange(X1, Y1)\n",
    "lp1.interpolate()\n",
    "lp1.display()"
   ]
  },
  {
   "cell_type": "code",
   "execution_count": 8,
   "id": "3970f79f-2b95-42a6-a5c4-a33aa980e3cc",
   "metadata": {},
   "outputs": [
    {
     "data": {
      "text/markdown": [
       "$|L_5(f, x^i) - f(x^i)| = [6.16662276797797e-12, 6.24694287809646e-6, 0.00131277136856656]$, $i = 1, 2, 3$"
      ],
      "text/plain": [
       "<IPython.core.display.Markdown object>"
      ]
     },
     "metadata": {},
     "output_type": "display_data"
    }
   ],
   "source": [
    "lp1.display_diff(X, Y)"
   ]
  },
  {
   "cell_type": "code",
   "execution_count": 9,
   "id": "b30a930a-11be-465c-8299-c0c8eda7ce49",
   "metadata": {},
   "outputs": [],
   "source": [
    "# TODO: Дать оценку приближения"
   ]
  },
  {
   "cell_type": "code",
   "execution_count": null,
   "id": "56e3b4a4-639b-4fd0-8523-d0bf3c6472f5",
   "metadata": {},
   "outputs": [],
   "source": []
  },
  {
   "cell_type": "markdown",
   "id": "f91868c7-b862-4616-a4e1-93ccff0d0283",
   "metadata": {},
   "source": [
    "**Вычисление на вторых узлах**"
   ]
  },
  {
   "cell_type": "code",
   "execution_count": 10,
   "id": "94d86d3b-3141-4544-ba0d-968bdcf16d19",
   "metadata": {},
   "outputs": [
    {
     "data": {
      "text/markdown": [
       "$L_5(f, x) = 0.000209647566819626 x^{4} + 0.000882482449696909 x^{3} + 0.0274087654315736 x^{2} + 0.213841071503339 x + 1.00417148015913$"
      ],
      "text/plain": [
       "<IPython.core.display.Markdown object>"
      ]
     },
     "metadata": {},
     "output_type": "display_data"
    }
   ],
   "source": [
    "lp2 = Lagrange(X2, Y2)\n",
    "lp2.interpolate()\n",
    "lp2.display()"
   ]
  },
  {
   "cell_type": "code",
   "execution_count": 11,
   "id": "15a669f2-3eab-48bb-a2fd-d54626ee4847",
   "metadata": {},
   "outputs": [
    {
     "data": {
      "text/markdown": [
       "$|L_5(f, x^i) - f(x^i)| = [9.06899977337616e-9, 6.28165133997882e-6, 0.00131286181546142]$, $i = 1, 2, 3$"
      ],
      "text/plain": [
       "<IPython.core.display.Markdown object>"
      ]
     },
     "metadata": {},
     "output_type": "display_data"
    }
   ],
   "source": [
    "lp2.display_diff(X, Y)"
   ]
  },
  {
   "cell_type": "code",
   "execution_count": 12,
   "id": "4301f60d-a637-487b-b7bf-ad33e0828da6",
   "metadata": {},
   "outputs": [],
   "source": [
    "# TODO: Дать оценку приближения"
   ]
  },
  {
   "cell_type": "code",
   "execution_count": null,
   "id": "a8533837-539e-4c31-89bf-d2eca36b9d0a",
   "metadata": {},
   "outputs": [],
   "source": []
  },
  {
   "cell_type": "markdown",
   "id": "b590f331-236f-4391-9500-062b474f12f8",
   "metadata": {},
   "source": [
    "**Задача 2.**"
   ]
  },
  {
   "cell_type": "code",
   "execution_count": null,
   "id": "47355d46-dd50-4143-9103-af946fcaa40c",
   "metadata": {},
   "outputs": [],
   "source": []
  }
 ],
 "metadata": {
  "kernelspec": {
   "display_name": "Python 3 (ipykernel)",
   "language": "python",
   "name": "python3"
  },
  "language_info": {
   "codemirror_mode": {
    "name": "ipython",
    "version": 3
   },
   "file_extension": ".py",
   "mimetype": "text/x-python",
   "name": "python",
   "nbconvert_exporter": "python",
   "pygments_lexer": "ipython3",
   "version": "3.12.4"
  }
 },
 "nbformat": 4,
 "nbformat_minor": 5
}
