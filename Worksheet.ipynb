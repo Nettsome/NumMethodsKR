{
 "cells": [
  {
   "cell_type": "code",
   "execution_count": 1,
   "id": "795ed7e0-cfa1-4b55-a953-160e07bb3e00",
   "metadata": {},
   "outputs": [],
   "source": [
    "import math\n",
    "import numpy as np\n",
    "import sympy as sp\n",
    "import IPython.display as dp\n",
    "# from IPython.display import display, Markdown# Для отображения латех текста"
   ]
  },
  {
   "cell_type": "code",
   "execution_count": 57,
   "id": "19e87bb0-40e5-4f1d-a420-70e0df083708",
   "metadata": {},
   "outputs": [],
   "source": [
    "# TODO:\n",
    "# Построить графики для оригинальной функции и для ее интерполяции\n",
    "# TODO:\n",
    "# Занести вычисления ошибки внутрь класса"
   ]
  },
  {
   "cell_type": "markdown",
   "id": "fde08f88-7614-48b0-bf11-e6eac32a744e",
   "metadata": {},
   "source": [
    "**Вариант 18.** <br>\n",
    "$f(x) = 3^{x/5}$ <br>\n",
    "$a = 3$, $b = 4$ <br>"
   ]
  },
  {
   "cell_type": "code",
   "execution_count": 36,
   "id": "c58aaa90-9948-4174-8170-7aca212813f6",
   "metadata": {},
   "outputs": [],
   "source": [
    "# Начальные условия\n",
    "x = sp.symbols('x')\n",
    "f = 3**(x/5)\n",
    "a = 3\n",
    "b = 4\n",
    "X = [15/4, 15/6, 16/(7 * np.pi)] # Контрольные значения x^(i)\n",
    "Y = [f.subs(x, x_l) for x_l in X]"
   ]
  },
  {
   "cell_type": "markdown",
   "id": "2d742a4e-5c6a-4567-b506-a97bc4a3248b",
   "metadata": {},
   "source": [
    "**Задача 1.**<br>\n",
    "1) $x_k = a + k \\frac{b - a}{4}$, $k = \\overline{0,4}$\n",
    "2) $x_k = \\frac{b -a}{2} \\cos{\\frac{(2k - 1)\\pi}{10}} + \\frac{b+a}{2}$, $k = \\overline{1,5}$"
   ]
  },
  {
   "cell_type": "code",
   "execution_count": 42,
   "id": "548eb9aa-0a5d-47e1-9ba3-99fbb3e8d455",
   "metadata": {},
   "outputs": [
    {
     "name": "stdout",
     "output_type": "stream",
     "text": [
      "x_k = [3.0, 3.25, 3.5, 3.75]\n",
      "y_k = [1.93318204493176, 2.04234363194535, 2.15766927997459, 2.27950705695478]\n"
     ]
    }
   ],
   "source": [
    "# Первый случай\n",
    "X1 = [(a + k*(b - a)/4) for k in range(4)]   # x_k\n",
    "Y1 = [f.subs(x, x_k) for x_k in X1]   # y_k\n",
    "print(f\"x_k = {X1}\")\n",
    "print(f\"y_k = {Y1}\")"
   ]
  },
  {
   "cell_type": "code",
   "execution_count": 58,
   "id": "78b89db2-4dd6-4425-aa90-e71e162cb247",
   "metadata": {},
   "outputs": [],
   "source": [
    "# TODO: \n",
    "# Написать формулу вычисления этого полинома"
   ]
  },
  {
   "cell_type": "code",
   "execution_count": 43,
   "id": "43c29b64-a802-466d-9afe-1aec6e9ffbda",
   "metadata": {},
   "outputs": [],
   "source": [
    "class Lagrange:\n",
    "\n",
    "    def __init__(self, X, Y):\n",
    "        self.n = len(X)\n",
    "        self.X = np.array(X)\n",
    "        self.Y = np.array(Y)\n",
    "\n",
    "    def __l(self, x, k):\n",
    "        b = [(x - self.X[j]) / (self.X[k] - self.X[j])\n",
    "             for j in range(self.n) if j != k]\n",
    "        return np.prod(b, axis=0)\n",
    "\n",
    "    def interpolate(self, x):\n",
    "        b = [self.Y[k] * self.__l(x, k) for k in range(self.n)]\n",
    "        self.L = np.sum(b, axis=0)\n",
    "        return self.L\n",
    "\n",
    "\n",
    "# Для отображения интерполяционного полинома Лагранжа\n",
    "def displayL(lagrange):\n",
    "    dp.display(dp.Markdown(rf\"$L_n(x) = {sp.latex(lagrange)}$\"))"
   ]
  },
  {
   "cell_type": "code",
   "execution_count": 44,
   "id": "0dbdd2ff-1c20-4af2-bc7f-83fbf11a0516",
   "metadata": {},
   "outputs": [],
   "source": [
    "lp1 = Lagrange(X1, Y1)"
   ]
  },
  {
   "cell_type": "code",
   "execution_count": 45,
   "id": "74a263bc-2372-4682-922a-96fa103e5ad3",
   "metadata": {},
   "outputs": [],
   "source": [
    "lagrange1 = lp1.interpolate(x)\n",
    "lagrange1 = sp.simplify(lagrange1)"
   ]
  },
  {
   "cell_type": "code",
   "execution_count": 46,
   "id": "8b526a1f-36fd-4ddf-bc2b-c2ab585495af",
   "metadata": {},
   "outputs": [
    {
     "data": {
      "text/markdown": [
       "$L_n(x) = 0.00371272464309413 x^{3} + 0.0131134228550991 x^{2} + 0.245858214109376 x + 0.97734303154391$"
      ],
      "text/plain": [
       "<IPython.core.display.Markdown object>"
      ]
     },
     "metadata": {},
     "output_type": "display_data"
    }
   ],
   "source": [
    "displayL(lagrange)"
   ]
  },
  {
   "cell_type": "code",
   "execution_count": null,
   "id": "ddd3b702-e030-4779-a12d-042723da4a30",
   "metadata": {},
   "outputs": [],
   "source": []
  },
  {
   "cell_type": "code",
   "execution_count": 55,
   "id": "e842e3df-64e0-4cba-aef0-1b045f63e2e3",
   "metadata": {},
   "outputs": [],
   "source": [
    "subs = np.abs(np.array(Y) - np.array([lagrange.subs(x, x_l) for x_l in X]))"
   ]
  },
  {
   "cell_type": "code",
   "execution_count": 56,
   "id": "5cda8bf1-92bc-4223-b9de-2104f4184ef2",
   "metadata": {},
   "outputs": [
    {
     "data": {
      "text/plain": [
       "array([2.10498285468930e-13, 9.20253588128084e-5, 0.00875699335290858],\n",
       "      dtype=object)"
      ]
     },
     "execution_count": 56,
     "metadata": {},
     "output_type": "execute_result"
    }
   ],
   "source": [
    "subs"
   ]
  },
  {
   "cell_type": "code",
   "execution_count": null,
   "id": "1d6a6f4f-f42e-4add-9804-ae89c9509029",
   "metadata": {},
   "outputs": [],
   "source": []
  }
 ],
 "metadata": {
  "kernelspec": {
   "display_name": "Python 3 (ipykernel)",
   "language": "python",
   "name": "python3"
  },
  "language_info": {
   "codemirror_mode": {
    "name": "ipython",
    "version": 3
   },
   "file_extension": ".py",
   "mimetype": "text/x-python",
   "name": "python",
   "nbconvert_exporter": "python",
   "pygments_lexer": "ipython3",
   "version": "3.12.4"
  }
 },
 "nbformat": 4,
 "nbformat_minor": 5
}
