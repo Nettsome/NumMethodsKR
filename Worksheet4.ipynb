{
 "cells": [
  {
   "cell_type": "markdown",
   "id": "91a8f6ce-009f-4add-926c-3d73bfa51f27",
   "metadata": {},
   "source": [
    "Фаррахов Фанур 05-204 Вариант 16."
   ]
  },
  {
   "cell_type": "code",
   "execution_count": 8,
   "id": "1f7ee834-4d2f-4985-8228-8e553f3d95a7",
   "metadata": {},
   "outputs": [],
   "source": [
    "import math\n",
    "import numpy as np\n",
    "import sympy as sp\n",
    "import IPython.display as dp"
   ]
  },
  {
   "cell_type": "markdown",
   "id": "fc731a48-8067-4478-bb7f-fcfc35f5b865",
   "metadata": {},
   "source": [
    "Напишем для начала методы решений СЛАУ..."
   ]
  },
  {
   "cell_type": "code",
   "execution_count": 125,
   "id": "351feaa7-da45-4c48-9c85-2d946545d62a",
   "metadata": {},
   "outputs": [],
   "source": [
    "def simple_iteration_solver(B, b, x0=None, max_iter=1000):\n",
    "    B = np.array(B, dtype=float)\n",
    "    b = np.array(b, dtype=float)\n",
    "    n = B.shape[0]\n",
    "\n",
    "    x_current = np.zeros(n) if x0 is None else np.array(x0, dtype=float)\n",
    "\n",
    "    for _ in range(max_iter):\n",
    "        x_new = np.dot(B, x_current) + b\n",
    "        x_current = x_new.copy()\n",
    "\n",
    "    return x_current  "
   ]
  },
  {
   "cell_type": "code",
   "execution_count": 93,
   "id": "6193f23a-04b5-4276-badd-89e36a27fbda",
   "metadata": {},
   "outputs": [],
   "source": [
    "def seidel(A, b, x0=None, epsilon=1e-6, max_iter=1000):\n",
    "    A = np.array(A, dtype=float)\n",
    "    b = np.array(b, dtype=float)\n",
    "    n = A.shape[0]\n",
    "\n",
    "    x_current = np.zeros(n) if x0 is None else np.array(x0, dtype=float)\n",
    "\n",
    "    Al = np.tril(A)\n",
    "    Au = np.triu(A, k=1)\n",
    "    B = -1 * np.dot(np.linalg.inv(Al), Au)\n",
    "    b= np.dot(np.linalg.inv(Al), b)\n",
    "    for _ in range(max_iter):\n",
    "        x_new = np.dot(B, x_current) + b\n",
    "\n",
    "        if np.linalg.norm(x_new - x_current, np.inf) < epsilon * 1e-1:\n",
    "            x_current = x_new\n",
    "            break\n",
    "        x_current = x_new\n",
    "\n",
    "    return x_current"
   ]
  },
  {
   "cell_type": "code",
   "execution_count": 159,
   "id": "8b226996-4e64-4e29-a853-1a33002d9100",
   "metadata": {},
   "outputs": [],
   "source": [
    "def gradient_descent(A, b, x0=None, max_iter=1000):\n",
    "    A = np.array(A, dtype=float)\n",
    "    b = np.array(b, dtype=float)\n",
    "    n = A.shape[0]\n",
    "\n",
    "    x_current = np.zeros(n) if x0 is None else np.array(x0, dtype=float)\n",
    "\n",
    "    for k in range(max_iter):\n",
    "        r = b - np.dot(A, x_current)\n",
    "        tau = np.dot(r, r) / np.dot(r, (np.dot(A, r)))\n",
    "        \n",
    "        x_new = x_current + tau * r\n",
    "        x_current = x_new\n",
    "        \n",
    "    return x_current"
   ]
  },
  {
   "cell_type": "code",
   "execution_count": 43,
   "id": "0260b461-de42-44de-8036-680fc7ba6b7f",
   "metadata": {},
   "outputs": [],
   "source": [
    "def gauss_partial_pivot(A, b):\n",
    "    A = np.array(A, dtype=float)\n",
    "    b = np.array(b, dtype=float)\n",
    "    n = len(b)\n",
    "    aug = np.hstack([A, b.reshape(-1, 1)])\n",
    "\n",
    "    for i in range(n):\n",
    "        pivot = np.argmax(np.abs(aug[i:, i])) + i\n",
    "        aug[[i, pivot]] = aug[[pivot, i]]  # Замена строчек местами\n",
    "\n",
    "        for j in range(i + 1, n):\n",
    "            aug[j] = aug[j] - aug[i] * (aug[j, i] / aug[i, i])\n",
    "\n",
    "    x = np.zeros(n)\n",
    "    for i in range(n-1, -1, -1):\n",
    "        x[i] = (aug[i, -1] - np.dot(aug[i, i+1:n], x[i+1:])) / aug[i, i]\n",
    "\n",
    "    return x"
   ]
  },
  {
   "cell_type": "code",
   "execution_count": 137,
   "id": "fd5e05de-713e-4e24-b3e4-87f685d24422",
   "metadata": {},
   "outputs": [],
   "source": [
    "def get_N_withAccuracy(B, b, epsilon):\n",
    "    row_sums = np.linalg.norm(B, np.inf)\n",
    "    q = np.max(row_sums)\n",
    "    if q >= 1:\n",
    "        raise ValueError(\"Метод не сходится: норма матрицы >= 1\")\n",
    "    \n",
    "    # Норма разности первого приближения (x1 = b) и начального (x0 = (0, 0, ...))\n",
    "    # delta = || x1 - x0 ||\n",
    "    delta = np.linalg.norm(b, np.inf)\n",
    "    \n",
    "    n = np.ceil(np.log(epsilon * (1-q) / delta) / np.log(q)).astype(int)\n",
    "    return max(n, 1)"
   ]
  },
  {
   "cell_type": "markdown",
   "id": "d40230ac-faa4-4f22-969a-0fe104d91e65",
   "metadata": {},
   "source": [
    "Оценка погрешности для градиентного спуска\n",
    "\n",
    "$||x^* - x^k||_2 \\lt \\frac{||r^0||_2}{m}\\left(\\frac{M-m}{M+m}\\right)^k$, где $r^0 = b - Ax^0$, $M$ и $m$ - макс. и мин. собственные значения м-цы A"
   ]
  },
  {
   "cell_type": "code",
   "execution_count": 156,
   "id": "382680b1-86cf-4256-bf6f-83ec36891591",
   "metadata": {},
   "outputs": [],
   "source": [
    "def get_N_for_gradient(A, b, epsilon, x0=None):\n",
    "    A = np.array(A, dtype=float)\n",
    "    b = np.array(b, dtype=float)\n",
    "    x0 = np.zeros(len(b)) if x0 is None else np.array(x0, dtype=float)\n",
    "    \n",
    "    r0 = b - np.dot(A, x0)\n",
    "    r0_norm = np.linalg.norm(r0, 2)\n",
    "    eigvals = np.linalg.eigvalsh(A)\n",
    "    m = np.min(eigvals)\n",
    "    M = np.max(eigvals)\n",
    "\n",
    "    n = np.ceil(np.log(epsilon * m / r0_norm) / np.log((M-m)/(M+m))).astype(int)\n",
    "    return max(n,1)"
   ]
  },
  {
   "cell_type": "code",
   "execution_count": null,
   "id": "b53de93c-e358-4124-825f-6990a741ccf4",
   "metadata": {},
   "outputs": [],
   "source": []
  },
  {
   "cell_type": "markdown",
   "id": "ce5ca95e-319f-42ab-8da8-b8ea109d7bf9",
   "metadata": {},
   "source": [
    "**Задача 1.**\n",
    "\n",
    "Решить с точностью $10^{-4}$ систему $𝐴𝑥 = 𝑦$ 4-ого порядка методами простой итерации, Зейделя 2 вариант, метод градиентного спуска. Для каждого из указанных методов найти невязку приближенного решения и оценить погрешность. Сравнить полученное приближенное решение с решением, найденным методом Гаусса с частичным выбором ведущего элемента.\n",
    "\n",
    "$$\n",
    "\\begin{cases}\n",
    "0.11 x_1 + 1.13 x_2 - 0.17 x_3 + 0.18 x_4 = 1.00 \\\\\n",
    "0.13 x_1 - 1.17 x_2 + 0.18 x_3 + 0.14 x_4 = 0.13 \\\\\n",
    "0.11 x_1 - 1.05 x_2 - 0.17 x_3 - 0.15 x_4 = 0.11 \\\\\n",
    "0.15 x_1 - 0.05 x_2 + 0.18 x_3 - 0.11 x_4 = 1.00 \\\\\n",
    "\\end{cases}\n",
    "$$"
   ]
  },
  {
   "cell_type": "code",
   "execution_count": 11,
   "id": "f00443b6-e0fb-453b-9bd9-747866a8488a",
   "metadata": {},
   "outputs": [],
   "source": [
    "A1 = np.array([[0.11, 1.13, -0.17, 0.18], \\\n",
    "               [0.13, -1.17, 0.18, 0.14], \\\n",
    "               [0.11, -1.05, -0.17, -0.15], \\\n",
    "               [0.15, -0.05, 0.18, -0.11]])\n",
    "y1 = [1, 0.13, 0.11, 1]"
   ]
  },
  {
   "cell_type": "markdown",
   "id": "11f85bd2-9286-4186-9342-fe671b432f4a",
   "metadata": {},
   "source": [
    "**Метод простой итерации**\n",
    "\n",
    "Покажем, что метод простой итерации не сходиться для этой системы"
   ]
  },
  {
   "cell_type": "code",
   "execution_count": 70,
   "id": "6c74036b-a4cd-4ad0-affc-ff29e27a3390",
   "metadata": {},
   "outputs": [
    {
     "name": "stdout",
     "output_type": "stream",
     "text": [
      "Результат для первого способа:\n",
      "Минимальная норма: 1.0000000183302036\n",
      "tau = 4.036191924978419e-08\n",
      "Матрица F:\n",
      "[[-0.35895119 -1.01109386  0.65288136  1.02856022]\n",
      " [ 2.58792896  0.65792618  0.66520013  0.62867712]\n",
      " [ 0.71024892 -0.08680946  0.86109362 -0.12143385]\n",
      " [-0.08230933 -0.1464417   0.02962904 -1.1816352 ]]\n",
      "\n",
      "Результат для второго способа:\n",
      "Минимальная норма: 1.0000000000154632\n",
      "tau = 1.0\n",
      "Матрица F:\n",
      "[[ 3.87551507e+11 -4.22632285e+13  1.66125193e+13  1.98174916e+05]\n",
      " [ 6.83849155e+13  1.38578566e+00 -1.15198244e-03  3.78613626e-02]\n",
      " [-1.14274325e+14  6.76751462e+13 -1.08669186e+11  1.19149268e+09]\n",
      " [-1.46987312e+11 -3.52237157e+07  3.61267180e+05  3.18710971e+10]]\n"
     ]
    }
   ],
   "source": [
    "from scipy.optimize import minimize\n",
    "\n",
    "def non_converging_method(A, method = 'Powell', norm_ord=np.inf):\n",
    "    # B = E - tau * C * A\n",
    "    def objective(x):\n",
    "        tau = x[0]\n",
    "        C = x[1:].reshape((4, 4))\n",
    "        I = np.eye(4)\n",
    "        B = I - tau * C @ A\n",
    "        # Бесконечная норма: максимум суммы абсолютных значений по строкам\n",
    "        return np.linalg.norm(B, ord=norm_ord)\n",
    "    \n",
    "    # A = M - N\n",
    "    # B = tau * M^-1 * N\n",
    "    def objective2(x):\n",
    "        tau = x[0]\n",
    "        M = x[1:].reshape((4, 4))\n",
    "        N = M - A\n",
    "        B = np.dot(np.linalg.inv(M), N)\n",
    "        return np.linalg.norm(B, ord=norm_ord)\n",
    "    \n",
    "    # Начальное приближение: tau=1, C=единичная матрица\n",
    "    x0 = np.zeros(17)\n",
    "    x0[0] = 1.0\n",
    "    x0[1:] = np.eye(4).flatten()\n",
    "    \n",
    "    # Оптимизация с ограничением Norm[B, Inf] < 1 (если нужно)\n",
    "    constraints = [{'type': 'ineq', 'fun': lambda x: 1 - objective(x)}]\n",
    "    method = 'Powell'\n",
    "    \n",
    "    # result = minimize(objective, x0, method=method, constraints=constraints)\n",
    "    result = minimize(objective, x0, method=method)\n",
    "    \n",
    "    print(\"Результат для первого способа:\")\n",
    "    print(\"Минимальная норма:\", result.fun)\n",
    "    print(\"tau =\", result.x[0])\n",
    "    print(\"Матрица F:\")\n",
    "    print(result.x[1:].reshape((4, 4)))\n",
    "    \n",
    "    result = minimize(objective2, x0, method=method)\n",
    "    \n",
    "    print(\"\\nРезультат для второго способа:\")\n",
    "    print(\"Минимальная норма:\", result.fun)\n",
    "    print(\"tau =\", result.x[0])\n",
    "    print(\"Матрица F:\")\n",
    "    print(result.x[1:].reshape((4, 4)))\n",
    "non_converging_method(A1)"
   ]
  },
  {
   "cell_type": "markdown",
   "id": "e42f6ce8-4a3d-48ad-a8eb-c408df4f3bd1",
   "metadata": {},
   "source": [
    "Отсюда видно, что минимальная норма $\\ge 1$, поэтому метод не сходится для этой матрицы"
   ]
  },
  {
   "cell_type": "markdown",
   "id": "8df1cb2f-934f-4884-8aa6-5c22477eec76",
   "metadata": {},
   "source": [
    "**Метод Зейделя 2-ой вариант**\n",
    "\n",
    "$Ax=y \\quad \\Rightarrow \\quad A^T Ax = A^T y \\quad (A^T A = A_l + A_u) \\quad \\Rightarrow \\quad A_l x^{k+1} + A_u x^k = A^T y \\quad \\Rightarrow \\quad x^{k+1} = -A_l^{-1} A_u x^k + A^T y$\n",
    "\n",
    "$S = A^T A$ - симметричная. Для сходимости метода нужно, чтобы матрица $S$ была положительно определенна"
   ]
  },
  {
   "cell_type": "code",
   "execution_count": 37,
   "id": "83ede889-f3fe-4a2e-902f-44c8555339ea",
   "metadata": {},
   "outputs": [
    {
     "name": "stdout",
     "output_type": "stream",
     "text": [
      "1-ый минор м-цы S = 0.06360000000000002\n",
      "2-ый минор м-цы S = 0.21581024\n",
      "3-ый минор м-цы S = 0.023280070320000006\n",
      "4-ый минор м-цы S = 0.0016599398983695994\n"
     ]
    },
    {
     "data": {
      "text/plain": [
       "array([[ 6.3600e-02, -1.5080e-01,  1.3000e-02,  5.0000e-03],\n",
       "       [-1.5080e-01,  3.7508e+00, -2.3320e-01,  2.0260e-01],\n",
       "       [ 1.3000e-02, -2.3320e-01,  1.2260e-01,  3.0000e-04],\n",
       "       [ 5.0000e-03,  2.0260e-01,  3.0000e-04,  8.6600e-02]])"
      ]
     },
     "execution_count": 37,
     "metadata": {},
     "output_type": "execute_result"
    }
   ],
   "source": [
    "S = np.dot(A1.T, A1)\n",
    "for i in range(1, S.shape[0] + 1):\n",
    "    print(f\"{i}-ый минор м-цы S = {np.linalg.det(S[:i, :i])}\")\n",
    "S"
   ]
  },
  {
   "cell_type": "code",
   "execution_count": 126,
   "id": "dc1a9551-0d35-4d07-8538-038ac6cc032c",
   "metadata": {},
   "outputs": [],
   "source": [
    "seidel1 = seidel(S, np.dot(A1.T, y1), epsilon=1e-3, max_iter=500)"
   ]
  },
  {
   "cell_type": "markdown",
   "id": "a4738333-0198-48ff-bbd4-532cc548b1c8",
   "metadata": {},
   "source": [
    "**Метод градиентного спуска**\n",
    "\n",
    "$Ax=b$\n",
    "\n",
    "$x^0 = (x^0_1, \\ldots, x^0_n) \\in \\mathbb{R}^n$\n",
    "\n",
    "$x^{k+1} = x^k + \\tau_k r^k$, где $r^k = b - A x^k$\n",
    "\n",
    "\n",
    "$\\tau_k = \\frac{\\left(r^k, r^k \\right)}{(r^k, A r^k)}$\n",
    "\n",
    "Чтобы метод сходился, матрица A должна быть симметричной и положительно определенной\n",
    "\n",
    "Чтобы привести м-цу А к симметричной нужно домножить слева на транспонированную. Получим такую систему $Sx = A^T b$, где $S = A^T A$"
   ]
  },
  {
   "cell_type": "code",
   "execution_count": 157,
   "id": "095c2ab0-598e-4e50-ba90-00b8aa278946",
   "metadata": {},
   "outputs": [],
   "source": [
    "max_iter = get_N_for_gradient(S, np.dot(A1.T, y1), 1e-3)\n",
    "grad1 = gradient_descent(S, np.dot(A1.T, y1),max_iter=max_iter)"
   ]
  },
  {
   "cell_type": "code",
   "execution_count": 158,
   "id": "246fe69d-d193-4b15-b364-044bd2b49496",
   "metadata": {},
   "outputs": [],
   "source": [
    "gauss1 = gauss_partial_pivot(A1, y1)"
   ]
  },
  {
   "cell_type": "code",
   "execution_count": 164,
   "id": "60321e26-e550-4dfa-bbda-20713db8f777",
   "metadata": {},
   "outputs": [
    {
     "name": "stdout",
     "output_type": "stream",
     "text": [
      "Метод Зейделя:\n",
      "Решение: [ 5.72169017  0.51589055  0.49622359 -0.71104785]\n",
      "Невязка: [-4.38173762e-06  1.32612787e-06  7.38811921e-09 -5.49239171e-06], норма: 5.49e-06\n",
      "\n",
      "Метод градиентного спуска:\n",
      "Решение: [ 5.72171614  0.51589402  0.49622751 -0.71105747]\n",
      "Невязка: [-2.03792849e-09  4.64932537e-10 -2.94143389e-09 -5.88817806e-09], норма: 5.89e-09\n",
      "\n",
      "Метод Гаусса (с частичным выбором):\n",
      "Решение: [ 5.72171617  0.51589402  0.49622751 -0.71105748]\n",
      "Невязка: [ 0.00000000e+00 -2.22044605e-16  4.16333634e-17  0.00000000e+00], норма: 2.22e-16\n",
      "\n",
      "Погрешность (Зейдель vs Гаусс): 2.82e-05\n",
      "Погрешность (Градиент vs Гаусс): 3.08e-08\n"
     ]
    }
   ],
   "source": [
    "print(\"Метод Зейделя:\")\n",
    "print(f\"Решение: {seidel1}\")\n",
    "print(f\"Невязка: {np.dot(A1, seidel1) - y1}, норма: {np.linalg.norm(np.dot(A1, seidel1) - y1, np.inf):.2e}\")\n",
    "\n",
    "print(\"\\nМетод градиентного спуска:\")\n",
    "print(f\"Решение: {grad1}\")\n",
    "print(f\"Невязка: {np.dot(A1, grad1) - y1}, норма: {np.linalg.norm(np.dot(A1, grad1) - y1, np.inf):.2e}\")\n",
    "\n",
    "print(\"\\nМетод Гаусса (с частичным выбором):\")\n",
    "print(f\"Решение: {gauss1}\")\n",
    "print(f\"Невязка: {np.dot(A1, gauss1) - y1}, норма: {np.linalg.norm(np.dot(A1, gauss1) - y1, np.inf):.2e}\\n\")\n",
    "\n",
    "# Оценка погрешности\n",
    "error_seidel = np.linalg.norm(seidel1 - gauss1)\n",
    "error_gd = np.linalg.norm(grad1 - gauss1)\n",
    "print(f\"Погрешность (Зейдель vs Гаусс): {error_seidel:.2e}\")\n",
    "print(f\"Погрешность (Градиент vs Гаусс): {error_gd:.2e}\")"
   ]
  },
  {
   "cell_type": "code",
   "execution_count": null,
   "id": "c4db5aa4-8fd7-4445-aafd-294c44d2f61a",
   "metadata": {},
   "outputs": [],
   "source": []
  },
  {
   "cell_type": "markdown",
   "id": "fe7e2e06-9829-417b-9c79-a90419884bc0",
   "metadata": {},
   "source": [
    "**Задача 2.**\n",
    "\n",
    "Решить систему линейных уравнений методом квадратных корней с точностью до $0.001$\n",
    "\n",
    "$$\n",
    "\\begin{cases}\n",
    "\\begin{aligned}\n",
    "1.36x_1 + 0.92x_2 - 1.87x_3 &= 2.15, \\\\\n",
    "0.92x_1 - 2.24x_2 + 0.77x_3 &= -2.06, \\\\\n",
    "-1.87x_1 + 0.77x_2 - 1.16x_3 &= 0.17\n",
    "\\end{aligned}\n",
    "\\end{cases}\n",
    "$$"
   ]
  },
  {
   "cell_type": "code",
   "execution_count": 98,
   "id": "54321fb4-64a2-4634-a07d-3186ccd951ff",
   "metadata": {},
   "outputs": [],
   "source": [
    "A2 = np.array([\n",
    "    [1.36, 0.92, -1.87],\n",
    "    [0.92, -2.24, 0.77],\n",
    "    [-1.87, 0.77, -1.16]])\n",
    "b2 = np.array([2.15, -2.06, 0.17])"
   ]
  },
  {
   "cell_type": "code",
   "execution_count": 165,
   "id": "c8f67db9-bfc6-4209-a4af-e87792fddde2",
   "metadata": {},
   "outputs": [],
   "source": [
    "def sq_root(A, b):\n",
    "    A = np.array(A, dtype=float)\n",
    "    b = np.array(b, dtype=float)\n",
    "    n = len(b)\n",
    "\n",
    "    def sq_decomposition(A):\n",
    "        S = np.zeros((n, n))\n",
    "        d = np.zeros(n)\n",
    "\n",
    "        for i in range(n):\n",
    "            diagonal = A[i, i] - np.sum(S[:i, i]**2 * d[:i])\n",
    "            d[i] = np.sign(diagonal)\n",
    "            S[i, i] = np.sqrt(d[i] * diagonal)\n",
    "\n",
    "            for j in range(i+1, n):\n",
    "                S[i,j] = (A[i,j] - np.sum(S[:i,i] * S[:i,j] * d[:i])) / (S[i,i] * d[i])\n",
    "        return S, d\n",
    "\n",
    "    def solve_forward(S, d, b):\n",
    "        y = np.zeros(n)\n",
    "        M = np.dot(np.array(S).T, np.diag(d))\n",
    "        for i in range(n):\n",
    "            y[i] = (b[i] - np.dot(M[i,:i], y[:i])) / M[i,i]\n",
    "        return y\n",
    "\n",
    "    def solve_backward(S, d, y):\n",
    "        x = np.zeros(n)\n",
    "        M = np.array(S)\n",
    "        for i in range(n-1, -1, -1):\n",
    "            x[i] =  (y[i] - np.dot(M[i, i+1:], x[i+1:])) / M[i,i]\n",
    "        return x\n",
    "\n",
    "    S, d = sq_decomposition(A)\n",
    "    y = solve_forward(S, d, b)\n",
    "    x = solve_backward(S, d, y)\n",
    "    return x"
   ]
  },
  {
   "cell_type": "code",
   "execution_count": 122,
   "id": "3f20c744-5051-4fcb-9271-10a1b2a3bddf",
   "metadata": {},
   "outputs": [
    {
     "data": {
      "text/plain": [
       "array([ 0.50466066,  1.0324672 , -0.27475491])"
      ]
     },
     "execution_count": 122,
     "metadata": {},
     "output_type": "execute_result"
    }
   ],
   "source": [
    "sq_root(A2, b2)"
   ]
  },
  {
   "cell_type": "code",
   "execution_count": 109,
   "id": "4edb3462-0fda-45c4-8a52-edacdfbaf273",
   "metadata": {},
   "outputs": [
    {
     "data": {
      "text/plain": [
       "array([ 0.50466066,  1.0324672 , -0.27475491])"
      ]
     },
     "execution_count": 109,
     "metadata": {},
     "output_type": "execute_result"
    }
   ],
   "source": [
    "np.linalg.solve(A2, b2)"
   ]
  },
  {
   "cell_type": "code",
   "execution_count": null,
   "id": "d790050d-4d20-42fe-be5b-e6af69b552c6",
   "metadata": {},
   "outputs": [],
   "source": []
  },
  {
   "cell_type": "markdown",
   "id": "069f06ec-aa3d-4660-8207-b223c7152830",
   "metadata": {},
   "source": [
    "**Задача 3.**\n",
    "\n",
    "Методом итерации решить систему линейных уравнений с точностью до 0.001, предварительно оценив число необходимых для этого шагов.\n",
    "\n",
    "$$\n",
    "\\begin{cases}\n",
    "x_1 = 0.14x_1 + 0.23x_2 + 0.18x_3 + 0.17x_4 - 1.42, \\\\\n",
    "x_2 = 0.12x_1 - 0.14x_2 + 0.08x_3 + 0.09x_4 - 0.83, \\\\\n",
    "x_3 = 0.16x_1 + 0.24x_2 - 0.35x_4 + 1.21, \\\\\n",
    "x_4 = 0.23x_1 - 0.08x_2 + 0.05x_3 + 0.25x_4 + 0.65.\n",
    "\\end{cases}\n",
    "$$"
   ]
  },
  {
   "cell_type": "code",
   "execution_count": 147,
   "id": "a1b94636-13f4-45c1-be7c-c266306b45e5",
   "metadata": {},
   "outputs": [],
   "source": [
    "B3 = np.array([\n",
    "    [0.14, 0.23, 0.18, 0.17],\n",
    "    [0.12, -0.14, 0.08, 0.09],\n",
    "    [0.16, 0.24, 0.00, -0.35],\n",
    "    [0.23, -0.08, 0.05, 0.25]])\n",
    "b3 = np.array([-1.42, -0.83, 1.21, 0.65])\n",
    "epsilon = 0.001\n",
    "max_iter = get_N_withAccuracy(B3, b, epsilon)"
   ]
  },
  {
   "cell_type": "code",
   "execution_count": 146,
   "id": "25c8e0ba-1ea7-4992-a186-d48f7676fe10",
   "metadata": {},
   "outputs": [
    {
     "data": {
      "text/plain": [
       "array([-1.65444305, -0.82334072,  0.57771287,  0.48564133])"
      ]
     },
     "execution_count": 146,
     "metadata": {},
     "output_type": "execute_result"
    }
   ],
   "source": [
    "simple_iteration_solver(B3, b3, max_iter=max_iter)"
   ]
  },
  {
   "cell_type": "markdown",
   "id": "fe100050-81b4-4f58-9979-77b5ad3cac89",
   "metadata": {},
   "source": [
    "**Задача 4.**\n",
    "\n",
    "Методом зейделя решить с точностью $0.001$ ситемы линейных уравнений, приведя ее к виду удобному для итерации.\n",
    "\n",
    "\n",
    "$$\n",
    "\\begin{cases}\n",
    "\\begin{aligned}\n",
    "3.8x_1 + 4.1x_2 - 2.3x_3 &= 4.8, \\\\\n",
    "-2.1x_1 + 3.9x_2 - 5.8x_3 &= 3.3, \\\\\n",
    "1.8x_1 + 1.1x_2 - 2.1x_3 &= 5.8.\n",
    "\\end{aligned}\n",
    "\\end{cases}\n",
    "$$"
   ]
  },
  {
   "cell_type": "code",
   "execution_count": 63,
   "id": "dd7ecf83-929d-4cf7-b00e-fb7d7a33014b",
   "metadata": {},
   "outputs": [],
   "source": [
    "A4 = np.array([[3.8, 4.1, -2.3], \\\n",
    "               [-2.1, 3.9, -5.8], \\\n",
    "               [1.8, 1.1, -2.1]])\n",
    "y4 = [4.8, 3.3, 5.8]"
   ]
  },
  {
   "cell_type": "code",
   "execution_count": 92,
   "id": "cc267442-419b-43c2-a5c7-426678307c4e",
   "metadata": {},
   "outputs": [
    {
     "data": {
      "text/plain": [
       "array([ 1.60333082, -1.53890157, -2.18485292])"
      ]
     },
     "execution_count": 92,
     "metadata": {},
     "output_type": "execute_result"
    }
   ],
   "source": [
    "seidel(np.dot(A4.T, A4), np.dot(A4.T, y4), epsilon=1e-3, max_iter=500)"
   ]
  },
  {
   "cell_type": "code",
   "execution_count": 65,
   "id": "1ad68c10-2f15-45a7-aa8f-516eb953d110",
   "metadata": {},
   "outputs": [
    {
     "data": {
      "text/plain": [
       "array([ 1.60940739, -1.55265204, -2.19570663])"
      ]
     },
     "execution_count": 65,
     "metadata": {},
     "output_type": "execute_result"
    }
   ],
   "source": [
    "gauss_partial_pivot(A4, y4)"
   ]
  },
  {
   "cell_type": "code",
   "execution_count": null,
   "id": "8d571d82-07a9-441e-b7fb-82dc2f332c58",
   "metadata": {},
   "outputs": [],
   "source": []
  }
 ],
 "metadata": {
  "kernelspec": {
   "display_name": "Python 3 (ipykernel)",
   "language": "python",
   "name": "python3"
  },
  "language_info": {
   "codemirror_mode": {
    "name": "ipython",
    "version": 3
   },
   "file_extension": ".py",
   "mimetype": "text/x-python",
   "name": "python",
   "nbconvert_exporter": "python",
   "pygments_lexer": "ipython3",
   "version": "3.12.4"
  }
 },
 "nbformat": 4,
 "nbformat_minor": 5
}
