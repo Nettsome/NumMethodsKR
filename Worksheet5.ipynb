{
 "cells": [
  {
   "cell_type": "markdown",
   "id": "b43ae5e6-fcf1-44f9-9737-dc8ada8d43a1",
   "metadata": {},
   "source": [
    "Фаррахов Фанур 05-204 Вариант 16."
   ]
  },
  {
   "cell_type": "code",
   "execution_count": 1,
   "id": "42abfb81-5b11-4d91-a4da-05d2a02630e1",
   "metadata": {},
   "outputs": [],
   "source": [
    "import math\n",
    "import numpy as np\n",
    "import sympy as sp\n",
    "import IPython.display as dp"
   ]
  },
  {
   "cell_type": "markdown",
   "id": "d166b032-11d3-4aab-bc71-a73d1a86c4b1",
   "metadata": {},
   "source": [
    "**Задача 1.**\n",
    "\n",
    "Решить методом простой итерации с точностью $0.0001$\n",
    "\n",
    "$2 x^3 - 3 x^2 - 12 x + 1 = 0$"
   ]
  },
  {
   "cell_type": "markdown",
   "id": "348d82eb-15ac-4f22-803c-7d551549bd27",
   "metadata": {},
   "source": [
    "Для начала найдем промежутки, где находятся корни.\n",
    "Для этого посмотрим на смену знака функции\n",
    "\n",
    "Например, значение функции в точке -2 равно -3 (т.е. f(-2) = -3)\n",
    "\n",
    "f(-1) = 8\n",
    "f(1) = -12\n",
    "f(2) = -19\n",
    "f(3) = -8\n",
    "f(4) = 33\n",
    "\n",
    "Наши промежутки, где находятся корни \n",
    "\n",
    "[-2, -1], [-1, 1], [3, 4]"
   ]
  },
  {
   "cell_type": "markdown",
   "id": "993cbdcc-9391-4e1f-b909-e776b14c8425",
   "metadata": {},
   "source": [
    "**Задача 2.1.**\n",
    "\n",
    "Использую метод итерации, решить систему нелинейных уравнений с точностью до $0.001$\n",
    "\n",
    "$$\n",
    "\\begin{cases}\n",
    "\\cos(y + 0.5) + x = 0.8 \\\\\n",
    "\\sin x - 2 y = 1.6\n",
    "\\end{cases}\n",
    "$$"
   ]
  },
  {
   "cell_type": "markdown",
   "id": "c502d392-d36a-4f98-a4c4-a01943ce926c",
   "metadata": {},
   "source": [
    "**Задача 2.2.**\n",
    "\n",
    "Используя метод Ньютона, решить систему нелинейных уравнений с точностью до $0.001$\n",
    "\n",
    "$$\n",
    "\\begin{cases}\n",
    "\\sin(x+y) - 1.4 x  = 0 \\\\\n",
    "x^2 + y^2 = 1\n",
    "\\end{cases}\n",
    "$$"
   ]
  },
  {
   "cell_type": "markdown",
   "id": "d0c172e5-5cfb-4359-82b8-857b194f7beb",
   "metadata": {},
   "source": [
    "**Задача 3.**\n",
    "\n",
    "Найти значение $\\sqrt{20}$ методом простой итерации и методом Ньютона с точностью $\\varepsilon = 0.001$"
   ]
  },
  {
   "cell_type": "code",
   "execution_count": null,
   "id": "8249ea83-2b88-4b66-8086-8d0382201388",
   "metadata": {},
   "outputs": [],
   "source": []
  }
 ],
 "metadata": {
  "kernelspec": {
   "display_name": "Python 3 (ipykernel)",
   "language": "python",
   "name": "python3"
  },
  "language_info": {
   "codemirror_mode": {
    "name": "ipython",
    "version": 3
   },
   "file_extension": ".py",
   "mimetype": "text/x-python",
   "name": "python",
   "nbconvert_exporter": "python",
   "pygments_lexer": "ipython3",
   "version": "3.12.4"
  }
 },
 "nbformat": 4,
 "nbformat_minor": 5
}
