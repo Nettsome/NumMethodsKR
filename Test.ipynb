{
 "cells": [
  {
   "cell_type": "code",
   "execution_count": 222,
   "id": "71ba65ba-7942-4d08-9d10-522d1df246f7",
   "metadata": {},
   "outputs": [],
   "source": [
    "import math\n",
    "import numpy as np\n",
    "import sympy as sp\n",
    "import scipy\n",
    "import IPython.display as dp"
   ]
  },
  {
   "cell_type": "code",
   "execution_count": 3,
   "id": "876bb588-df65-4d2f-8111-19245ba2bb2c",
   "metadata": {},
   "outputs": [],
   "source": [
    "x = sp.symbols('x')\n",
    "f = x**2 * sp.sin((x * sp.pi) / 2)\n",
    "a = -1\n",
    "b = 1"
   ]
  },
  {
   "cell_type": "code",
   "execution_count": 215,
   "id": "f9754994-445f-40bb-bc9c-fa72d47ca092",
   "metadata": {},
   "outputs": [
    {
     "name": "stdout",
     "output_type": "stream",
     "text": [
      "x_k = [0, 0.5, 1]\n",
      "y_k = [0, 1, -1]\n"
     ]
    }
   ],
   "source": [
    "# X = [(a + k * (b - a)/2) for k in range(3)]\n",
    "# Y = [f.subs(x, x_k) for x_k in X]\n",
    "X = [0, 1/2, 1]\n",
    "Y = [0, 1, -1]\n",
    "print(f\"x_k = {X}\")\n",
    "print(f\"y_k = {Y}\")"
   ]
  },
  {
   "cell_type": "code",
   "execution_count": null,
   "id": "4faff5da-e3ec-4f31-96ea-cfc161895063",
   "metadata": {},
   "outputs": [],
   "source": []
  },
  {
   "cell_type": "code",
   "execution_count": null,
   "id": "662ab9a0-8f37-43ab-815f-a25be16b7585",
   "metadata": {},
   "outputs": [],
   "source": []
  },
  {
   "cell_type": "code",
   "execution_count": 228,
   "id": "3eced0f9-87fc-4b4d-85ce-f24243f25a99",
   "metadata": {},
   "outputs": [],
   "source": [
    "def get_matrixes(X, Y):\n",
    "    nsegs = len(X) - 1 # Number of segments\n",
    "    n = 4*(nsegs)\n",
    "    cub   = lambda x, y: np.array([[1, x, x**2, x**3],\n",
    "                                   [1, y, y**2, y**3]])\n",
    "    dcub  = lambda x: np.array([0, 1, 2*x, 3*x**2, 0, -1, -2*x, -3*x**2])\n",
    "    ddcub = lambda x: np.array([0, 0, 2, 6*x])\n",
    "\n",
    "    # Добавление условий интерполяции\n",
    "    int_rules = np.zeros((nsegs, 2, n))\n",
    "    sample = np.zeros((2, n-4))\n",
    "    for k in range(nsegs):\n",
    "        int_rules[k] = np.insert(sample, 4 * k, cub(X[k], X[k+1]).T, axis=1)\n",
    "    int_rules = np.reshape(int_rules, (int_rules.size))\n",
    "\n",
    "    # Условия гладкой склейки на внутренних узловых точках\n",
    "    sm_rules = np.zeros((nsegs-1, n))  # Smooth gluing rules\n",
    "    sample = np.zeros((n-8, ))\n",
    "    for k in range(nsegs-1):\n",
    "        sm_rules[k] = np.insert(sample, 4*k, dcub(X[k+1]).T)\n",
    "\n",
    "    # Условия дважды гладкой склейки на внутренних узловых точках\n",
    "    dsm_rules = np.zeros((nsegs-1, n))\n",
    "    for k in range(nsegs-1):\n",
    "        dsm_rules[k] = np.insert(sample, 4*k, np.append(ddcub(X[k+1]), ddcub(-X[k+1])).T)\n",
    "    \n",
    "    # Добавление остаточных условий\n",
    "    res = np.array(ddcub(X[0]))\n",
    "    res.resize(2 * n - 4)\n",
    "    res = np.append(res, ddcub(X[-1]))\n",
    "\n",
    "\n",
    "    # Объединение всех условий в одну матрицу коэф СЛАУ\n",
    "    int_rules = np.append(int_rules, [sm_rules, dsm_rules])\n",
    "    res = np.append(int_rules, res)\n",
    "    res.resize((n, n))\n",
    "\n",
    "    # Добавление вектора-столбца свободных членов СЛАУ\n",
    "    resY = np.zeros(n)\n",
    "    for k in range(nsegs):\n",
    "        resY[2*k] = Y[k]\n",
    "        resY[2*k+1] = Y[k+1]\n",
    "        \n",
    "    return [res, resY]"
   ]
  },
  {
   "cell_type": "code",
   "execution_count": 229,
   "id": "0c29d5ad-a7c3-45fc-9b9a-34586f047e05",
   "metadata": {},
   "outputs": [],
   "source": [
    "M = get_matrixes(X, Y)"
   ]
  },
  {
   "cell_type": "markdown",
   "id": "196bf8c2-0c85-4b94-a093-0ebc08ca7301",
   "metadata": {},
   "source": [
    "Решение СЛАУ"
   ]
  },
  {
   "cell_type": "code",
   "execution_count": 250,
   "id": "5ea0a8a6-42db-4432-b905-f1efbb813e06",
   "metadata": {},
   "outputs": [
    {
     "data": {
      "text/plain": [
       "array([[  0. ,   6.5,   0. , -18. ],\n",
       "       [  7.5, -20.5,  18. ,  -6. ]])"
      ]
     },
     "execution_count": 250,
     "metadata": {},
     "output_type": "execute_result"
    }
   ],
   "source": [
    "solution = np.linalg.solve(M[0], M[1])\n",
    "solution = np.reshape(solution, (len(X)-1, 4))\n",
    "solution"
   ]
  },
  {
   "cell_type": "code",
   "execution_count": 251,
   "id": "91fd3559-9187-4c15-ba46-b21263f59434",
   "metadata": {},
   "outputs": [
    {
     "data": {
      "text/plain": [
       "array([[-18.0*x**3 + 6.5*x],\n",
       "       [-6.0*x**3 + 18.0*x**2 - 20.5*x + 7.5]], dtype=object)"
      ]
     },
     "execution_count": 251,
     "metadata": {},
     "output_type": "execute_result"
    }
   ],
   "source": [
    "a = np.array([1, x, x**2, x**3])\n",
    "solution = np.dot(solution, a.T)[:, None]\n",
    "solution"
   ]
  },
  {
   "cell_type": "code",
   "execution_count": 254,
   "id": "e6eff18f-7a12-48af-9dfd-0ee1e7b2a344",
   "metadata": {},
   "outputs": [
    {
     "data": {
      "text/markdown": [
       "$- 18.0 x^{3} + 6.5 x$"
      ],
      "text/plain": [
       "<IPython.core.display.Markdown object>"
      ]
     },
     "metadata": {},
     "output_type": "display_data"
    },
    {
     "data": {
      "text/markdown": [
       "$- 6.0 x^{3} + 18.0 x^{2} - 20.5 x + 7.5$"
      ],
      "text/plain": [
       "<IPython.core.display.Markdown object>"
      ]
     },
     "metadata": {},
     "output_type": "display_data"
    }
   ],
   "source": [
    "for sol in solution:\n",
    "    dp.display(dp.Markdown(rf\"${sp.latex(sol[0])}$\"))"
   ]
  },
  {
   "cell_type": "code",
   "execution_count": 256,
   "id": "985026d7-4bcd-433e-ab88-b16c172e5c19",
   "metadata": {},
   "outputs": [
    {
     "data": {
      "text/plain": [
       "'- 18.0 x^{3} + 6.5 x'"
      ]
     },
     "execution_count": 256,
     "metadata": {},
     "output_type": "execute_result"
    }
   ],
   "source": [
    "sp.latex(solution[0][0])"
   ]
  },
  {
   "cell_type": "code",
   "execution_count": null,
   "id": "ce1eb139-b4d6-4804-b2bc-af1669fd9d1e",
   "metadata": {},
   "outputs": [],
   "source": []
  }
 ],
 "metadata": {
  "kernelspec": {
   "display_name": "Python 3 (ipykernel)",
   "language": "python",
   "name": "python3"
  },
  "language_info": {
   "codemirror_mode": {
    "name": "ipython",
    "version": 3
   },
   "file_extension": ".py",
   "mimetype": "text/x-python",
   "name": "python",
   "nbconvert_exporter": "python",
   "pygments_lexer": "ipython3",
   "version": "3.12.4"
  }
 },
 "nbformat": 4,
 "nbformat_minor": 5
}
