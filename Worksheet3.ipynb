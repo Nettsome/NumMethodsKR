{
 "cells": [
  {
   "cell_type": "markdown",
   "id": "fa849816-4ff8-45be-b0a9-23350ebe7cac",
   "metadata": {},
   "source": [
    "Фаррахов Фанур 05-204 Вариант 18."
   ]
  },
  {
   "cell_type": "code",
   "execution_count": 1,
   "id": "81a4615d-cbca-4857-9989-ffc8915606e6",
   "metadata": {},
   "outputs": [],
   "source": [
    "import math\n",
    "import numpy as np\n",
    "import sympy as sp\n",
    "import IPython.display as dp"
   ]
  },
  {
   "cell_type": "code",
   "execution_count": 2,
   "id": "cdec7f68-f286-41e9-b481-07a9b3ab8ed9",
   "metadata": {},
   "outputs": [],
   "source": [
    "# Начальные условия\n",
    "x = sp.symbols('x')\n",
    "\n",
    "f1 = sp.sqrt(1.7 * x**2 + 0.5) / (1.4 + sp.sqrt(1.2 * x + 1.3))\n",
    "a1 = 0.7\n",
    "b1 = 2.1\n",
    "\n",
    "f2 = sp.cos(0.3 * x + 0.8) / (0.9 + 2 * sp.sin(0.4 * x + 0.3))\n",
    "a2 = 0.2\n",
    "b2 = 1\n",
    "n = 10"
   ]
  },
  {
   "cell_type": "markdown",
   "id": "c0e1a09e-151d-4676-829c-91d579f59364",
   "metadata": {},
   "source": [
    "**Задача 1.**"
   ]
  },
  {
   "cell_type": "code",
   "execution_count": 3,
   "id": "1a4dd7e4-2020-416d-9027-0daec8b453a3",
   "metadata": {},
   "outputs": [],
   "source": [
    "def left_rect(f, a, b, n):\n",
    "    f = sp.lambdify(x, f, 'numpy')\n",
    "\n",
    "    h = (b - a) / n\n",
    "    x_k = np.linspace(a, b-h, n)   # Точки: a, a+h, ..., b-h\n",
    "    return np.sum(f(x_k)) * h"
   ]
  },
  {
   "cell_type": "code",
   "execution_count": 4,
   "id": "1be2cfb0-e043-48fe-864c-d0779e2cdfc1",
   "metadata": {},
   "outputs": [],
   "source": [
    "def right_rect(f, a, b, n):\n",
    "    f = sp.lambdify(x, f, 'numpy')\n",
    "\n",
    "    h = (b - a) / n \n",
    "    x_k = np.linspace(a+h, b, n)  # Точки: a+h, a+2h, ..., b\n",
    "    return np.sum(f(x_k)) * h"
   ]
  },
  {
   "cell_type": "code",
   "execution_count": 5,
   "id": "bec8d6e3-d8f7-48c9-b6ac-b8a406580519",
   "metadata": {},
   "outputs": [
    {
     "data": {
      "text/plain": [
       "0.8440185823782873"
      ]
     },
     "execution_count": 5,
     "metadata": {},
     "output_type": "execute_result"
    }
   ],
   "source": [
    "left_rect(f1, a1, b1, 10)"
   ]
  },
  {
   "cell_type": "code",
   "execution_count": 6,
   "id": "d5a4180e-c234-4741-acb3-83da5a116a7f",
   "metadata": {},
   "outputs": [
    {
     "data": {
      "text/plain": [
       "0.9055814342773036"
      ]
     },
     "execution_count": 6,
     "metadata": {},
     "output_type": "execute_result"
    }
   ],
   "source": [
    "right_rect(f1, a1, b1, 10)"
   ]
  },
  {
   "cell_type": "code",
   "execution_count": 7,
   "id": "3b6d6024-c4a2-4d8b-8455-cade7e069e97",
   "metadata": {},
   "outputs": [
    {
     "data": {
      "text/plain": [
       "0.2423249482020146"
      ]
     },
     "execution_count": 7,
     "metadata": {},
     "output_type": "execute_result"
    }
   ],
   "source": [
    "left_rect(f2, a2, b2, 10)"
   ]
  },
  {
   "cell_type": "code",
   "execution_count": 8,
   "id": "e6d064d5-8c9e-437e-b37d-88866f327d00",
   "metadata": {},
   "outputs": [
    {
     "data": {
      "text/plain": [
       "0.2271159837485018"
      ]
     },
     "execution_count": 8,
     "metadata": {},
     "output_type": "execute_result"
    }
   ],
   "source": [
    "right_rect(f2, a2, b2, 10)"
   ]
  },
  {
   "cell_type": "markdown",
   "id": "5d97d4dd-2bc4-430d-8e5b-f89ede817190",
   "metadata": {},
   "source": [
    "**Задача 2.**"
   ]
  },
  {
   "cell_type": "code",
   "execution_count": 9,
   "id": "1870820c-e17a-4d2b-bc14-513b36ae2b44",
   "metadata": {},
   "outputs": [],
   "source": [
    "def mid_rect(f, a, b, n):\n",
    "    f = sp.lambdify(x, f, 'numpy')\n",
    "\n",
    "    h = (b - a) / n\n",
    "    x_k = (np.linspace(a+h, b, n) + np.linspace(a, b-h, n)) / 2\n",
    "    return np.sum(f(x_k)) * h"
   ]
  },
  {
   "cell_type": "code",
   "execution_count": 10,
   "id": "bb6e60d7-1a4d-483b-a104-33dcdf75e8b5",
   "metadata": {},
   "outputs": [
    {
     "data": {
      "text/plain": [
       "0.8748080398218024"
      ]
     },
     "execution_count": 10,
     "metadata": {},
     "output_type": "execute_result"
    }
   ],
   "source": [
    "mid_rect(f1, a1, b1, 10)"
   ]
  },
  {
   "cell_type": "code",
   "execution_count": 11,
   "id": "571103b5-0414-4df7-b715-0ba635fc3e8b",
   "metadata": {},
   "outputs": [
    {
     "data": {
      "text/plain": [
       "0.2346099633887941"
      ]
     },
     "execution_count": 11,
     "metadata": {},
     "output_type": "execute_result"
    }
   ],
   "source": [
    "mid_rect(f2, a2, b2, 10)"
   ]
  },
  {
   "cell_type": "markdown",
   "id": "485fe3f9-42b0-4ca5-812b-f91de2a89954",
   "metadata": {},
   "source": [
    "**Задача 3.**\n",
    "\n",
    "Формула Симпсона:\n",
    "\n",
    "$\\int_a^b {f(x)dx} \\approx \\sum\\limits_{k=0}^{n-1}{\\frac{x_{k+1} - x_k}{6} \\left( f(x_k) + 4 f(\\frac{x_k + x_{k+1}}{2}) + f(x_{k+1})\\right)}$"
   ]
  },
  {
   "cell_type": "code",
   "execution_count": 12,
   "id": "085bcab1-0439-4bc1-a6ea-778288f3f252",
   "metadata": {},
   "outputs": [],
   "source": [
    "def simpsone_rule(f, a, b, n):\n",
    "    f = sp.lambdify(x, f, 'numpy')\n",
    "\n",
    "    h = (b - a) / n \n",
    "    x_k  = np.linspace(a, b-h, n)\n",
    "    x_k1 = np.linspace(a+h, b, n)\n",
    "    return np.sum((f(x_k) + 4*f((x_k + x_k1)/2)) + f(x_k1)) * h/6"
   ]
  },
  {
   "cell_type": "code",
   "execution_count": 13,
   "id": "c20a49ed-fa18-4e9b-b9be-dd000862f2e6",
   "metadata": {},
   "outputs": [
    {
     "data": {
      "text/plain": [
       "0.8748053626571335"
      ]
     },
     "execution_count": 13,
     "metadata": {},
     "output_type": "execute_result"
    }
   ],
   "source": [
    "simpsone_rule(f1, a1, b1, 10)"
   ]
  },
  {
   "cell_type": "code",
   "execution_count": 14,
   "id": "68fc6966-335f-4a07-910f-767b72d14623",
   "metadata": {},
   "outputs": [
    {
     "data": {
      "text/plain": [
       "0.2346467975842821"
      ]
     },
     "execution_count": 14,
     "metadata": {},
     "output_type": "execute_result"
    }
   ],
   "source": [
    "simpsone_rule(f2, a2, b2, 10)"
   ]
  },
  {
   "cell_type": "markdown",
   "id": "29a46803-8c26-4252-8a41-3bc6acc88507",
   "metadata": {},
   "source": [
    "**Задача 4.**"
   ]
  },
  {
   "cell_type": "code",
   "execution_count": 15,
   "id": "7a53c10a-fd0d-4afa-971d-8c4485b17135",
   "metadata": {},
   "outputs": [],
   "source": [
    "def solve_Leg():\n",
    "    x = sp.symbols('x')\n",
    "    \n",
    "    f = sp.simplify((1 - x**2)**6)\n",
    "    df = sp.diff(f, (x, 6))\n",
    "    df = sp.simplify(df)\n",
    "    \n",
    "    return np.poly1d([df.coeff(x, i) for i in reversed(range(7))]).r\n",
    "\n",
    "\n",
    "def gauss_int(f, a, b):\n",
    "    A0, A1, A2, A3, A4, A5 = sp.symbols('A0, A1, A2, A3, A4, A5')\n",
    "    f = sp.lambdify(x, f, 'numpy')\n",
    "    \n",
    "    X = solve_Leg()\n",
    "    X = (a - b) / 2 * X + (a+b)/2 # Преобразование (-1, 1) -> (a, b)\n",
    "    A = [A0, A1, A2, A3, A4, A5]\n",
    "\n",
    "    one_eq = lambda k: A[0] * X[0]**k + A[1] * X[1]**k + A[2] * X[2]**k + \\\n",
    "                          A[3] * X[3]**k + A[4] * X[4]**k + A[5] * X[5]**k\n",
    "\n",
    "    eqns = np.array([(one_eq(k) - 1/(k+1) * (b**(k+1) - a**(k+1))) for k in range(6)])\n",
    "\n",
    "    sol = sp.solve(eqns, A).items()\n",
    "    sol = np.array(list(sol))[::, 1]\n",
    "    \n",
    "    return np.dot(sol, f(X))"
   ]
  },
  {
   "cell_type": "code",
   "execution_count": 16,
   "id": "bef614fa-e13c-428b-a662-b9d1552ac0fa",
   "metadata": {},
   "outputs": [
    {
     "data": {
      "text/latex": [
       "$\\displaystyle 0.874805290617202$"
      ],
      "text/plain": [
       "0.874805290617202"
      ]
     },
     "execution_count": 16,
     "metadata": {},
     "output_type": "execute_result"
    }
   ],
   "source": [
    "gauss_int(f1, a1, b1)"
   ]
  },
  {
   "cell_type": "code",
   "execution_count": 17,
   "id": "af494178-5734-4f42-bc0b-31a4e332ec2c",
   "metadata": {},
   "outputs": [
    {
     "data": {
      "text/latex": [
       "$\\displaystyle 0.234646793415263$"
      ],
      "text/plain": [
       "0.234646793415263"
      ]
     },
     "execution_count": 17,
     "metadata": {},
     "output_type": "execute_result"
    }
   ],
   "source": [
    "gauss_int(f2, a2, b2)"
   ]
  },
  {
   "cell_type": "markdown",
   "id": "09cfd072-ba22-4195-a608-bdfcc5435a34",
   "metadata": {},
   "source": [
    "**Задача 5.**"
   ]
  },
  {
   "cell_type": "code",
   "execution_count": 18,
   "id": "c14c7f74-c31c-48d4-aa8e-63be41b767b1",
   "metadata": {},
   "outputs": [],
   "source": [
    "def quad_int(f, a, b, n):\n",
    "    f = sp.lambdify(x, f, 'numpy')\n",
    "    \n",
    "    X = np.linspace(a, b, n+1)\n",
    "    l = lambda x, k: np.prod([(x - X[j]) / (X[k] - X[j])\n",
    "             for j in range(n) if j != k], axis=0)\n",
    "\n",
    "    ls = np.array([sp.integrate(l(x,k), (x, a, b)) for k in range(n+1)])\n",
    "\n",
    "    return np.dot(f(X), ls)"
   ]
  },
  {
   "cell_type": "code",
   "execution_count": 19,
   "id": "f1909bad-2664-4343-8e77-ae3411815628",
   "metadata": {},
   "outputs": [
    {
     "data": {
      "text/latex": [
       "$\\displaystyle 0.906475688362338$"
      ],
      "text/plain": [
       "0.906475688362338"
      ]
     },
     "execution_count": 19,
     "metadata": {},
     "output_type": "execute_result"
    }
   ],
   "source": [
    "quad_int(f1, a1, b1, 10)"
   ]
  },
  {
   "cell_type": "code",
   "execution_count": 20,
   "id": "69b2e756-097a-42df-ba60-e93d9a77bece",
   "metadata": {},
   "outputs": [
    {
     "data": {
      "text/latex": [
       "$\\displaystyle 0.23909631646093$"
      ],
      "text/plain": [
       "0.239096316460930"
      ]
     },
     "execution_count": 20,
     "metadata": {},
     "output_type": "execute_result"
    }
   ],
   "source": [
    "quad_int(f2, a2, b2, 10)"
   ]
  }
 ],
 "metadata": {
  "kernelspec": {
   "display_name": "Python 3 (ipykernel)",
   "language": "python",
   "name": "python3"
  },
  "language_info": {
   "codemirror_mode": {
    "name": "ipython",
    "version": 3
   },
   "file_extension": ".py",
   "mimetype": "text/x-python",
   "name": "python",
   "nbconvert_exporter": "python",
   "pygments_lexer": "ipython3",
   "version": "3.12.4"
  }
 },
 "nbformat": 4,
 "nbformat_minor": 5
}
