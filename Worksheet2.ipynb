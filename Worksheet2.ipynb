{
 "cells": [
  {
   "cell_type": "code",
   "execution_count": 1,
   "id": "f087e905-1f17-4eab-a282-2641b01e0099",
   "metadata": {},
   "outputs": [],
   "source": [
    "import math\n",
    "import numpy as np\n",
    "import sympy as sp\n",
    "import scipy\n",
    "import IPython.display as dp"
   ]
  },
  {
   "cell_type": "markdown",
   "id": "fc1fa649-e347-482c-b529-2f270e89a3f8",
   "metadata": {},
   "source": [
    "**Вариант 18.**<br>\n",
    "$f(x) = x^2 \\sin(x)$<br>\n",
    "$a = -1$, $b = 1$<br>\n",
    "\n",
    "$x^{(1)} = -0.89, x^{(2)} = -0.42, x^{(3)} = -0.26$"
   ]
  },
  {
   "cell_type": "code",
   "execution_count": 32,
   "id": "fba39adb-93f2-4897-8bf9-1bfcc90d2b1f",
   "metadata": {},
   "outputs": [],
   "source": [
    "x = sp.symbols('x')\n",
    "f = x**2 * sp.sin(x)\n",
    "a = -1\n",
    "b = 1\n",
    "X = [-0.89, -0.42, -0.26] # Контрольные точки x^(i)\n",
    "Y = [f.subs(x, x_l) for x_l in X]"
   ]
  },
  {
   "cell_type": "markdown",
   "id": "df70514b-7fb6-4522-bcae-428997754aad",
   "metadata": {},
   "source": [
    "**Задача 1.**<br>\n",
    "\n",
    "Для функции $f(x), x \\in [a, b]$, построить интерполяционный сплайн первой степени по следующим узлам:\n",
    "1. $x_k = a + k \\frac{b-a}{4}$, $k = \\overline{0, 4}$\n",
    "2. $x_k = \\frac{b -a}{2} \\cos{\\frac{(2k - 1)\\pi}{10}} + \\frac{b+a}{2}$, $k = \\overline{1,5}$"
   ]
  },
  {
   "cell_type": "code",
   "execution_count": 3,
   "id": "973c75f3-0dea-42e6-ba22-be388b0da1f8",
   "metadata": {},
   "outputs": [
    {
     "name": "stdout",
     "output_type": "stream",
     "text": [
      "x_k = [-1.0, -0.5, 0.0, 0.5, 1.0]\n",
      "y_k = [-0.841470984807897, -0.119856384651051, 0, 0.119856384651051, 0.841470984807897]\n"
     ]
    }
   ],
   "source": [
    "# Первый случай\n",
    "X1 = [(a + k * (b - a)/4) for k in range(5)]\n",
    "Y1 = [f.subs(x, x_k) for x_k in X1]\n",
    "print(f\"x_k = {X1}\")\n",
    "print(f\"y_k = {Y1}\")"
   ]
  },
  {
   "cell_type": "code",
   "execution_count": 4,
   "id": "8488a272-4035-48a4-a3e1-0f5784129220",
   "metadata": {},
   "outputs": [
    {
     "name": "stdout",
     "output_type": "stream",
     "text": [
      "x_k = [0.9510565162951535, 0.5877852522924731, 6.123233995736766e-17, -0.587785252292473, -0.9510565162951535]\n",
      "y_k = [0.736296697723516, 0.191581718715425, 2.29584502165847e-49, -0.191581718715425, -0.736296697723516]\n"
     ]
    }
   ],
   "source": [
    "# Второой случай\n",
    "X2 = [((b-a)/2 * np.cos((2*k-1)*np.pi / 10) + (b+a)/2) for k in range(1, 6)]   # x_k\n",
    "Y2 = [f.subs(x, x_k) for x_k in X2]   # y_k\n",
    "print(f\"x_k = {X2}\")\n",
    "print(f\"y_k = {Y2}\")"
   ]
  },
  {
   "cell_type": "code",
   "execution_count": 8,
   "id": "0bd3ebe6-6476-432e-a942-a3a1f54ac5b8",
   "metadata": {},
   "outputs": [],
   "source": [
    "def spline_interpolate(X, Y, x):\n",
    "    S = [((Y[k+1] - Y[k]) * (x - X[k+1]) / (X[k+1] - X[k]) + Y[k+1]) for k in range(len(X) - 1)]\n",
    "    return np.array(S)[:, None]"
   ]
  },
  {
   "cell_type": "code",
   "execution_count": 34,
   "id": "5d277907-734b-4c41-968e-28be544e8018",
   "metadata": {
    "scrolled": true
   },
   "outputs": [
    {
     "data": {
      "text/markdown": [
       "$\\begin{cases}1.44322920031369 x + 0.601758215505795\\\\0.239712769302102 x\\\\0.239712769302102 x\\\\1.44322920031369 x - 0.601758215505795\\\\\\end{cases}$"
      ],
      "text/plain": [
       "<IPython.core.display.Markdown object>"
      ]
     },
     "metadata": {},
     "output_type": "display_data"
    }
   ],
   "source": [
    "display_sol(spline_interpolate(X1, Y1, x))"
   ]
  },
  {
   "cell_type": "code",
   "execution_count": 35,
   "id": "ba77eecd-56df-4da7-8ae7-7560e1ef8a9a",
   "metadata": {},
   "outputs": [
    {
     "data": {
      "text/markdown": [
       "$\\begin{cases}1.49947169783314 x - 0.689785631500853\\\\0.325938287781499 x - 1.99579640425591 \\cdot 10^{-17}\\\\0.325938287781499 x - 5.55111512312578 \\cdot 10^{-17}\\\\1.49947169783314 x + 0.689785631500853\\\\\\end{cases}$"
      ],
      "text/plain": [
       "<IPython.core.display.Markdown object>"
      ]
     },
     "metadata": {},
     "output_type": "display_data"
    }
   ],
   "source": [
    "display_sol(spline_interpolate(X2, Y2, x))"
   ]
  },
  {
   "cell_type": "code",
   "execution_count": null,
   "id": "ee85b0f1-fe2a-4b6f-8051-3643d58320a1",
   "metadata": {},
   "outputs": [],
   "source": []
  },
  {
   "cell_type": "markdown",
   "id": "0dc48462-9933-488c-ad69-db3e14fae83e",
   "metadata": {},
   "source": [
    "---\n",
    "**Задача 2.1**<br>\n",
    "\n",
    "Для функции $f(x), x \\in [a, b]$ построить естественный сплайн третей степени, исползуя определение"
   ]
  },
  {
   "cell_type": "code",
   "execution_count": 39,
   "id": "831bda9c-0fa7-48c4-a340-a17370cb3041",
   "metadata": {},
   "outputs": [],
   "source": [
    "def cubspline_interpolate(X, Y, x):\n",
    "    M = __get_matrixes(X, Y)\n",
    "    solution = np.linalg.solve(M[0], M[1])\n",
    "    solution = np.reshape(solution, (len(X)-1, 4))\n",
    "\n",
    "    return np.dot(solution, np.array([1, x, x**2, x**3]).T)[:, None]\n",
    "\n",
    "def __get_matrixes(X, Y):\n",
    "    nsegs = len(X) - 1 # Number of segments\n",
    "    n = 4*(nsegs)\n",
    "    cub   = lambda x, y: np.array([[1, x, x**2, x**3],\n",
    "                                   [1, y, y**2, y**3]])\n",
    "    dcub  = lambda x: np.array([0, 1, 2*x, 3*x**2, 0, -1, -2*x, -3*x**2])\n",
    "    ddcub = lambda x: np.array([0, 0, 2, 6*x])\n",
    "\n",
    "    # Добавление условий интерполяции\n",
    "    int_rules = np.zeros((nsegs, 2, n))\n",
    "    sample = np.zeros((2, n-4))\n",
    "    for k in range(nsegs):\n",
    "        int_rules[k] = np.insert(sample, 4 * k, cub(X[k], X[k+1]).T, axis=1)\n",
    "    int_rules = np.reshape(int_rules, (int_rules.size))\n",
    "\n",
    "    # Условия гладкой склейки на внутренних узловых точках\n",
    "    sm_rules = np.zeros((nsegs-1, n))  # Smooth gluing rules\n",
    "    sample = np.zeros((n-8, ))\n",
    "    for k in range(nsegs-1):\n",
    "        sm_rules[k] = np.insert(sample, 4*k, dcub(X[k+1]).T)\n",
    "\n",
    "    # Условия дважды гладкой склейки на внутренних узловых точках\n",
    "    dsm_rules = np.zeros((nsegs-1, n))\n",
    "    for k in range(nsegs-1):\n",
    "        dsm_rules[k] = np.insert(sample, 4*k, np.append(ddcub(X[k+1]), ddcub(-X[k+1])).T)\n",
    "    \n",
    "    # Добавление остаточных условий\n",
    "    res = np.array(ddcub(X[0]))\n",
    "    res.resize(2 * n - 4)\n",
    "    res = np.append(res, ddcub(X[-1]))\n",
    "\n",
    "    # Объединение всех условий в одну матрицу коэф СЛАУ\n",
    "    int_rules = np.append(int_rules, [sm_rules, dsm_rules])\n",
    "    res = np.append(int_rules, res)\n",
    "    res.resize((n, n))\n",
    "\n",
    "    # Добавление вектора-столбца свободных членов СЛАУ\n",
    "    resY = np.zeros(n)\n",
    "    for k in range(nsegs):\n",
    "        resY[2*k] = Y[k]\n",
    "        resY[2*k+1] = Y[k+1]\n",
    "        \n",
    "    return [res, resY]\n",
    "\n",
    "\n",
    "def display_sol(solution):\n",
    "    string = \"\\\\begin{cases}\"\n",
    "    for sol in solution:\n",
    "        string += str(sp.latex(sol[0]))\n",
    "        string += \"\\\\\\\\\"\n",
    "    string += \"\\\\end{cases}\"\n",
    "    dp.display(dp.Markdown(rf\"${string}$\"))"
   ]
  },
  {
   "cell_type": "code",
   "execution_count": 40,
   "id": "73060794-da93-474d-8e2c-8026974077e6",
   "metadata": {
    "scrolled": true
   },
   "outputs": [
    {
     "data": {
      "text/markdown": [
       "$\\begin{cases}0.802344287341059 x^{3} + 2.40703286202318 x^{2} + 3.6496759905016 x + 1.20351643101159\\\\0.80234428734106 x^{3} - 2.40703286202318 x^{2} - 1.16438973354475 x - 1.11022302462516 \\cdot 10^{-16}\\\\0.802344287341061 x^{3} + 2.40703286202318 x^{2} - 1.16438973354475 x\\\\0.80234428734106 x^{3} - 2.40703286202318 x^{2} + 3.64967599050161 x - 1.20351643101159\\\\\\end{cases}$"
      ],
      "text/plain": [
       "<IPython.core.display.Markdown object>"
      ]
     },
     "metadata": {},
     "output_type": "display_data"
    }
   ],
   "source": [
    "solution1 = cubspline_interpolate(X1, Y1, x)\n",
    "display_sol(solution1)"
   ]
  },
  {
   "cell_type": "code",
   "execution_count": 41,
   "id": "fdaec3cc-ea81-4f01-b3c8-a7e68facd9a2",
   "metadata": {
    "scrolled": true
   },
   "outputs": [
    {
     "data": {
      "text/markdown": [
       "$\\begin{cases}0.557735998005517 x^{3} - 1.59131536582658 x^{2} + 2.93930035099574 x - 1.09957187437619\\\\0.557735998005521 x^{3} + 1.59131536582659 x^{2} - 0.802106464121344 x + 5.55111512312578 \\cdot 10^{-17}\\\\0.557735998005522 x^{3} - 1.59131536582659 x^{2} - 0.802106464121344 x + 1.66533453693773 \\cdot 10^{-16}\\\\0.55773599800552 x^{3} + 1.59131536582659 x^{2} + 2.93930035099575 x + 1.09957187437619\\\\\\end{cases}$"
      ],
      "text/plain": [
       "<IPython.core.display.Markdown object>"
      ]
     },
     "metadata": {},
     "output_type": "display_data"
    }
   ],
   "source": [
    "solution2 = cubspline_interpolate(X2, Y2, x)\n",
    "display_sol(solution2)"
   ]
  },
  {
   "cell_type": "code",
   "execution_count": null,
   "id": "a073508e-dcf5-4347-8c2a-19185c92689b",
   "metadata": {},
   "outputs": [],
   "source": []
  },
  {
   "cell_type": "code",
   "execution_count": null,
   "id": "f72145b9-decd-4165-878f-5f54bf027682",
   "metadata": {},
   "outputs": [],
   "source": []
  },
  {
   "cell_type": "markdown",
   "id": "fa93892e-bb1d-42d1-86c1-7ab927e2e039",
   "metadata": {},
   "source": [
    "**Задача 2.2**\n",
    "\n",
    "Для функции $f(x), x \\in [a, b]$ построить естественный сплайн третей степени через метод моментов"
   ]
  },
  {
   "cell_type": "code",
   "execution_count": null,
   "id": "bd3d1e88-ace1-43f4-a59f-c2e80a65c3eb",
   "metadata": {},
   "outputs": [],
   "source": []
  }
 ],
 "metadata": {
  "kernelspec": {
   "display_name": "Python 3 (ipykernel)",
   "language": "python",
   "name": "python3"
  },
  "language_info": {
   "codemirror_mode": {
    "name": "ipython",
    "version": 3
   },
   "file_extension": ".py",
   "mimetype": "text/x-python",
   "name": "python",
   "nbconvert_exporter": "python",
   "pygments_lexer": "ipython3",
   "version": "3.12.4"
  }
 },
 "nbformat": 4,
 "nbformat_minor": 5
}
